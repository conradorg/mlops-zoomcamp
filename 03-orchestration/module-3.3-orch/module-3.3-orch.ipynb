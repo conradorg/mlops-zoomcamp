{
 "cells": [
  {
   "cell_type": "markdown",
   "id": "c8f77c7b-8758-4a90-aecb-534a28c1da71",
   "metadata": {},
   "source": [
    "# Install prefect\n",
    "see https://docs.prefect.io/v3/get-started/install"
   ]
  },
  {
   "cell_type": "markdown",
   "id": "ddee594e-bfc6-43d5-92b5-b65c28882874",
   "metadata": {},
   "source": [
    "## note on prefect:\n",
    "there are three components in a prefect setup:\n",
    "1. Developement Environment\n",
    "    - `prefect deploy ...` (deploy flow to orchestration environment)\n",
    "    - `prefect deployment run ...` (manually start a run)\n",
    "2. Orchestration Environment `prefect server start` or `prefect cloud login`\n",
    "    - deployment\n",
    "    - flow run\n",
    "    - work pool (requests worker to start working when/where/how)\n",
    "3. Execution Environment `prefect worker start -p module-03-pool`\n",
    "    - start worker which polls the specified work pool"
   ]
  },
  {
   "cell_type": "code",
   "execution_count": 1,
   "id": "308a413c-9a52-4287-a8a2-9d242750ec16",
   "metadata": {
    "scrolled": true
   },
   "outputs": [
    {
     "name": "stdout",
     "output_type": "stream",
     "text": [
      "Requirement already satisfied: prefect in /home/codespace/venv/lib/python3.12/site-packages (3.4.7)\n",
      "Requirement already satisfied: aiosqlite<1.0.0,>=0.17.0 in /home/codespace/venv/lib/python3.12/site-packages (from prefect) (0.21.0)\n",
      "Requirement already satisfied: alembic<2.0.0,>=1.7.5 in /home/codespace/venv/lib/python3.12/site-packages (from prefect) (1.16.2)\n",
      "Requirement already satisfied: anyio<5.0.0,>=4.4.0 in /home/codespace/venv/lib/python3.12/site-packages (from prefect) (4.9.0)\n",
      "Requirement already satisfied: apprise<2.0.0,>=1.1.0 in /home/codespace/venv/lib/python3.12/site-packages (from prefect) (1.9.3)\n",
      "Requirement already satisfied: asgi-lifespan<3.0,>=1.0 in /home/codespace/venv/lib/python3.12/site-packages (from prefect) (2.1.0)\n",
      "Requirement already satisfied: asyncpg<1.0.0,>=0.23 in /home/codespace/venv/lib/python3.12/site-packages (from prefect) (0.30.0)\n",
      "Requirement already satisfied: cachetools<7.0,>=5.3 in /home/codespace/venv/lib/python3.12/site-packages (from prefect) (5.5.2)\n",
      "Requirement already satisfied: click<8.2,>=8.0 in /home/codespace/venv/lib/python3.12/site-packages (from prefect) (8.1.8)\n",
      "Requirement already satisfied: cloudpickle<4.0,>=2.0 in /home/codespace/venv/lib/python3.12/site-packages (from prefect) (3.1.1)\n",
      "Requirement already satisfied: coolname<3.0.0,>=1.0.4 in /home/codespace/venv/lib/python3.12/site-packages (from prefect) (2.2.0)\n",
      "Requirement already satisfied: cryptography>=36.0.1 in /home/codespace/venv/lib/python3.12/site-packages (from prefect) (45.0.5)\n",
      "Requirement already satisfied: dateparser<2.0.0,>=1.1.1 in /home/codespace/venv/lib/python3.12/site-packages (from prefect) (1.2.2)\n",
      "Requirement already satisfied: docker<8.0,>=4.0 in /home/codespace/venv/lib/python3.12/site-packages (from prefect) (7.1.0)\n",
      "Requirement already satisfied: exceptiongroup>=1.0.0 in /home/codespace/venv/lib/python3.12/site-packages (from prefect) (1.3.0)\n",
      "Requirement already satisfied: fastapi<1.0.0,>=0.111.0 in /home/codespace/venv/lib/python3.12/site-packages (from prefect) (0.115.14)\n",
      "Requirement already satisfied: fsspec>=2022.5.0 in /home/codespace/venv/lib/python3.12/site-packages (from prefect) (2025.5.1)\n",
      "Requirement already satisfied: graphviz>=0.20.1 in /home/codespace/venv/lib/python3.12/site-packages (from prefect) (0.21)\n",
      "Requirement already satisfied: griffe<2.0.0,>=0.49.0 in /home/codespace/venv/lib/python3.12/site-packages (from prefect) (1.7.3)\n",
      "Requirement already satisfied: httpcore<2.0.0,>=1.0.5 in /home/codespace/venv/lib/python3.12/site-packages (from prefect) (1.0.9)\n",
      "Requirement already satisfied: httpx!=0.23.2,>=0.23 in /home/codespace/venv/lib/python3.12/site-packages (from httpx[http2]!=0.23.2,>=0.23->prefect) (0.28.1)\n",
      "Requirement already satisfied: humanize<5.0.0,>=4.9.0 in /home/codespace/venv/lib/python3.12/site-packages (from prefect) (4.12.3)\n",
      "Requirement already satisfied: jinja2-humanize-extension>=0.4.0 in /home/codespace/venv/lib/python3.12/site-packages (from prefect) (0.4.0)\n",
      "Requirement already satisfied: jinja2<4.0.0,>=3.1.6 in /home/codespace/venv/lib/python3.12/site-packages (from prefect) (3.1.6)\n",
      "Requirement already satisfied: jsonpatch<2.0,>=1.32 in /home/codespace/venv/lib/python3.12/site-packages (from prefect) (1.33)\n",
      "Requirement already satisfied: jsonschema<5.0.0,>=4.18.0 in /home/codespace/venv/lib/python3.12/site-packages (from prefect) (4.24.0)\n",
      "Requirement already satisfied: opentelemetry-api<2.0.0,>=1.27.0 in /home/codespace/venv/lib/python3.12/site-packages (from prefect) (1.34.1)\n",
      "Requirement already satisfied: orjson<4.0,>=3.7 in /home/codespace/venv/lib/python3.12/site-packages (from prefect) (3.10.18)\n",
      "Requirement already satisfied: packaging<25.1,>=21.3 in /home/codespace/venv/lib/python3.12/site-packages (from prefect) (25.0)\n",
      "Requirement already satisfied: pathspec>=0.8.0 in /home/codespace/venv/lib/python3.12/site-packages (from prefect) (0.12.1)\n",
      "Requirement already satisfied: pendulum<4,>=3.0.0 in /home/codespace/venv/lib/python3.12/site-packages (from prefect) (3.1.0)\n",
      "Requirement already satisfied: prometheus-client>=0.20.0 in /home/codespace/venv/lib/python3.12/site-packages (from prefect) (0.22.1)\n",
      "Requirement already satisfied: pydantic!=2.10.0,!=2.11.0,!=2.11.1,!=2.11.2,!=2.11.3,!=2.11.4,<3.0.0,>=2.9 in /home/codespace/venv/lib/python3.12/site-packages (from prefect) (2.11.7)\n",
      "Requirement already satisfied: pydantic-core<3.0.0,>=2.12.0 in /home/codespace/venv/lib/python3.12/site-packages (from prefect) (2.33.2)\n",
      "Requirement already satisfied: pydantic-extra-types<3.0.0,>=2.8.2 in /home/codespace/venv/lib/python3.12/site-packages (from prefect) (2.10.5)\n",
      "Requirement already satisfied: pydantic-settings!=2.9.0,<3.0.0,>2.2.1 in /home/codespace/venv/lib/python3.12/site-packages (from prefect) (2.10.1)\n",
      "Requirement already satisfied: python-dateutil<3.0.0,>=2.8.2 in /home/codespace/venv/lib/python3.12/site-packages (from prefect) (2.9.0.post0)\n",
      "Requirement already satisfied: python-slugify<9.0,>=5.0 in /home/codespace/venv/lib/python3.12/site-packages (from prefect) (8.0.4)\n",
      "Requirement already satisfied: python-socks<3.0,>=2.5.3 in /home/codespace/venv/lib/python3.12/site-packages (from python-socks[asyncio]<3.0,>=2.5.3->prefect) (2.7.1)\n",
      "Requirement already satisfied: pytz<2026,>=2021.1 in /home/codespace/venv/lib/python3.12/site-packages (from prefect) (2025.2)\n",
      "Requirement already satisfied: pyyaml<7.0.0,>=5.4.1 in /home/codespace/venv/lib/python3.12/site-packages (from prefect) (6.0.2)\n",
      "Requirement already satisfied: readchar<5.0.0,>=4.0.0 in /home/codespace/venv/lib/python3.12/site-packages (from prefect) (4.2.1)\n",
      "Requirement already satisfied: rfc3339-validator<0.2.0,>=0.1.4 in /home/codespace/venv/lib/python3.12/site-packages (from prefect) (0.1.4)\n",
      "Requirement already satisfied: rich<15.0,>=11.0 in /home/codespace/venv/lib/python3.12/site-packages (from prefect) (14.0.0)\n",
      "Requirement already satisfied: ruamel-yaml>=0.17.0 in /home/codespace/venv/lib/python3.12/site-packages (from prefect) (0.18.14)\n",
      "Requirement already satisfied: semver>=3.0.4 in /home/codespace/venv/lib/python3.12/site-packages (from prefect) (3.0.4)\n",
      "Requirement already satisfied: sniffio<2.0.0,>=1.3.0 in /home/codespace/venv/lib/python3.12/site-packages (from prefect) (1.3.1)\n",
      "Requirement already satisfied: sqlalchemy<3.0.0,>=2.0 in /home/codespace/venv/lib/python3.12/site-packages (from sqlalchemy[asyncio]<3.0.0,>=2.0->prefect) (2.0.41)\n",
      "Requirement already satisfied: toml>=0.10.0 in /home/codespace/venv/lib/python3.12/site-packages (from prefect) (0.10.2)\n",
      "Requirement already satisfied: typer!=0.12.2,<0.17.0,>=0.12.0 in /home/codespace/venv/lib/python3.12/site-packages (from prefect) (0.16.0)\n",
      "Requirement already satisfied: typing-extensions<5.0.0,>=4.10.0 in /home/codespace/venv/lib/python3.12/site-packages (from prefect) (4.14.0)\n",
      "Requirement already satisfied: ujson<6.0.0,>=5.8.0 in /home/codespace/venv/lib/python3.12/site-packages (from prefect) (5.10.0)\n",
      "Requirement already satisfied: uv>=0.6.0 in /home/codespace/venv/lib/python3.12/site-packages (from prefect) (0.7.18)\n",
      "Requirement already satisfied: uvicorn!=0.29.0,>=0.14.0 in /home/codespace/venv/lib/python3.12/site-packages (from prefect) (0.35.0)\n",
      "Requirement already satisfied: websockets<16.0,>=13.0 in /home/codespace/venv/lib/python3.12/site-packages (from prefect) (15.0.1)\n",
      "Requirement already satisfied: Mako in /home/codespace/venv/lib/python3.12/site-packages (from alembic<2.0.0,>=1.7.5->prefect) (1.3.10)\n",
      "Requirement already satisfied: idna>=2.8 in /home/codespace/venv/lib/python3.12/site-packages (from anyio<5.0.0,>=4.4.0->prefect) (3.10)\n",
      "Requirement already satisfied: certifi in /home/codespace/venv/lib/python3.12/site-packages (from apprise<2.0.0,>=1.1.0->prefect) (2025.6.15)\n",
      "Requirement already satisfied: requests in /home/codespace/venv/lib/python3.12/site-packages (from apprise<2.0.0,>=1.1.0->prefect) (2.32.4)\n",
      "Requirement already satisfied: requests-oauthlib in /home/codespace/venv/lib/python3.12/site-packages (from apprise<2.0.0,>=1.1.0->prefect) (2.0.0)\n",
      "Requirement already satisfied: markdown in /home/codespace/venv/lib/python3.12/site-packages (from apprise<2.0.0,>=1.1.0->prefect) (3.8.2)\n",
      "Requirement already satisfied: regex>=2024.9.11 in /home/codespace/venv/lib/python3.12/site-packages (from dateparser<2.0.0,>=1.1.1->prefect) (2024.11.6)\n",
      "Requirement already satisfied: tzlocal>=0.2 in /home/codespace/venv/lib/python3.12/site-packages (from dateparser<2.0.0,>=1.1.1->prefect) (5.3.1)\n",
      "Requirement already satisfied: urllib3>=1.26.0 in /home/codespace/venv/lib/python3.12/site-packages (from docker<8.0,>=4.0->prefect) (2.5.0)\n",
      "Requirement already satisfied: starlette<0.47.0,>=0.40.0 in /home/codespace/venv/lib/python3.12/site-packages (from fastapi<1.0.0,>=0.111.0->prefect) (0.46.2)\n",
      "Requirement already satisfied: colorama>=0.4 in /home/codespace/venv/lib/python3.12/site-packages (from griffe<2.0.0,>=0.49.0->prefect) (0.4.6)\n",
      "Requirement already satisfied: h11>=0.16 in /home/codespace/venv/lib/python3.12/site-packages (from httpcore<2.0.0,>=1.0.5->prefect) (0.16.0)\n",
      "Requirement already satisfied: MarkupSafe>=2.0 in /home/codespace/venv/lib/python3.12/site-packages (from jinja2<4.0.0,>=3.1.6->prefect) (3.0.2)\n",
      "Requirement already satisfied: jsonpointer>=1.9 in /home/codespace/venv/lib/python3.12/site-packages (from jsonpatch<2.0,>=1.32->prefect) (3.0.0)\n",
      "Requirement already satisfied: attrs>=22.2.0 in /home/codespace/venv/lib/python3.12/site-packages (from jsonschema<5.0.0,>=4.18.0->prefect) (25.3.0)\n",
      "Requirement already satisfied: jsonschema-specifications>=2023.03.6 in /home/codespace/venv/lib/python3.12/site-packages (from jsonschema<5.0.0,>=4.18.0->prefect) (2025.4.1)\n",
      "Requirement already satisfied: referencing>=0.28.4 in /home/codespace/venv/lib/python3.12/site-packages (from jsonschema<5.0.0,>=4.18.0->prefect) (0.36.2)\n",
      "Requirement already satisfied: rpds-py>=0.7.1 in /home/codespace/venv/lib/python3.12/site-packages (from jsonschema<5.0.0,>=4.18.0->prefect) (0.25.1)\n",
      "Requirement already satisfied: importlib-metadata<8.8.0,>=6.0 in /home/codespace/venv/lib/python3.12/site-packages (from opentelemetry-api<2.0.0,>=1.27.0->prefect) (8.7.0)\n",
      "Requirement already satisfied: zipp>=3.20 in /home/codespace/venv/lib/python3.12/site-packages (from importlib-metadata<8.8.0,>=6.0->opentelemetry-api<2.0.0,>=1.27.0->prefect) (3.23.0)\n",
      "Requirement already satisfied: tzdata>=2020.1 in /home/codespace/venv/lib/python3.12/site-packages (from pendulum<4,>=3.0.0->prefect) (2025.2)\n",
      "Requirement already satisfied: annotated-types>=0.6.0 in /home/codespace/venv/lib/python3.12/site-packages (from pydantic!=2.10.0,!=2.11.0,!=2.11.1,!=2.11.2,!=2.11.3,!=2.11.4,<3.0.0,>=2.9->prefect) (0.7.0)\n",
      "Requirement already satisfied: typing-inspection>=0.4.0 in /home/codespace/venv/lib/python3.12/site-packages (from pydantic!=2.10.0,!=2.11.0,!=2.11.1,!=2.11.2,!=2.11.3,!=2.11.4,<3.0.0,>=2.9->prefect) (0.4.1)\n",
      "Requirement already satisfied: python-dotenv>=0.21.0 in /home/codespace/venv/lib/python3.12/site-packages (from pydantic-settings!=2.9.0,<3.0.0,>2.2.1->prefect) (1.1.1)\n",
      "Requirement already satisfied: six>=1.5 in /home/codespace/venv/lib/python3.12/site-packages (from python-dateutil<3.0.0,>=2.8.2->prefect) (1.17.0)\n",
      "Requirement already satisfied: text-unidecode>=1.3 in /home/codespace/venv/lib/python3.12/site-packages (from python-slugify<9.0,>=5.0->prefect) (1.3)\n",
      "Requirement already satisfied: markdown-it-py>=2.2.0 in /home/codespace/venv/lib/python3.12/site-packages (from rich<15.0,>=11.0->prefect) (3.0.0)\n",
      "Requirement already satisfied: pygments<3.0.0,>=2.13.0 in /home/codespace/venv/lib/python3.12/site-packages (from rich<15.0,>=11.0->prefect) (2.19.2)\n",
      "Requirement already satisfied: greenlet>=1 in /home/codespace/venv/lib/python3.12/site-packages (from sqlalchemy<3.0.0,>=2.0->sqlalchemy[asyncio]<3.0.0,>=2.0->prefect) (3.2.3)\n",
      "Requirement already satisfied: shellingham>=1.3.0 in /home/codespace/venv/lib/python3.12/site-packages (from typer!=0.12.2,<0.17.0,>=0.12.0->prefect) (1.5.4)\n",
      "Requirement already satisfied: cffi>=1.14 in /home/codespace/venv/lib/python3.12/site-packages (from cryptography>=36.0.1->prefect) (1.17.1)\n",
      "Requirement already satisfied: pycparser in /home/codespace/venv/lib/python3.12/site-packages (from cffi>=1.14->cryptography>=36.0.1->prefect) (2.22)\n",
      "Requirement already satisfied: h2<5,>=3 in /home/codespace/venv/lib/python3.12/site-packages (from httpx[http2]!=0.23.2,>=0.23->prefect) (4.2.0)\n",
      "Requirement already satisfied: hyperframe<7,>=6.1 in /home/codespace/venv/lib/python3.12/site-packages (from h2<5,>=3->httpx[http2]!=0.23.2,>=0.23->prefect) (6.1.0)\n",
      "Requirement already satisfied: hpack<5,>=4.1 in /home/codespace/venv/lib/python3.12/site-packages (from h2<5,>=3->httpx[http2]!=0.23.2,>=0.23->prefect) (4.1.0)\n",
      "Requirement already satisfied: mdurl~=0.1 in /home/codespace/venv/lib/python3.12/site-packages (from markdown-it-py>=2.2.0->rich<15.0,>=11.0->prefect) (0.1.2)\n",
      "Requirement already satisfied: charset_normalizer<4,>=2 in /home/codespace/venv/lib/python3.12/site-packages (from requests->apprise<2.0.0,>=1.1.0->prefect) (3.4.2)\n",
      "Requirement already satisfied: ruamel.yaml.clib>=0.2.7 in /home/codespace/venv/lib/python3.12/site-packages (from ruamel-yaml>=0.17.0->prefect) (0.2.12)\n",
      "Requirement already satisfied: oauthlib>=3.0.0 in /home/codespace/venv/lib/python3.12/site-packages (from requests-oauthlib->apprise<2.0.0,>=1.1.0->prefect) (3.3.1)\n",
      "Version:             3.4.7\n",
      "API version:         0.8.4\n",
      "Python version:      3.12.1\n",
      "Git commit:          cd81d15a\n",
      "Built:               Thu, Jun 26, 2025 09:16 PM\n",
      "OS/Arch:             linux/x86_64\n",
      "Profile:             local\n",
      "Server type:         ephemeral\n",
      "Pydantic version:    2.11.7\n",
      "Server:\n",
      "  Database:          sqlite\n",
      "  SQLite version:    3.45.1\n"
     ]
    }
   ],
   "source": [
    "!pip install -U prefect\n",
    "!prefect version"
   ]
  },
  {
   "cell_type": "markdown",
   "id": "ebf413bc-299c-45a3-b054-119024a8fb8f",
   "metadata": {},
   "source": [
    "# Quickstart (Open Source version)\n",
    "see https://docs.prefect.io/v3/get-started/quickstart#open-source\n",
    "1. run `prefect server start`\n",
    "2. look at server UI\n",
    "3. run the getting started script"
   ]
  },
  {
   "cell_type": "code",
   "execution_count": 2,
   "id": "be55b4b8-be91-405f-88f5-cc8f6b20f2da",
   "metadata": {},
   "outputs": [
    {
     "name": "stdout",
     "output_type": "stream",
     "text": [
      "13:58:49.716 | \u001b[36mINFO\u001b[0m    | prefect - Starting temporary server on \u001b[94mhttp://127.0.0.1:8098\u001b[0m\n",
      "See \u001b[94mhttps://docs.prefect.io/3.0/manage/self-host#self-host-a-prefect-server\u001b[0m for more information on running a dedicated Prefect server.\n",
      "13:58:52.963 | \u001b[36mINFO\u001b[0m    | Flow run\u001b[35m 'hospitable-angelfish'\u001b[0m - Beginning flow run\u001b[35m 'hospitable-angelfish'\u001b[0m for flow\u001b[1;35m 'main'\u001b[0m\n",
      "13:58:53.147 | \u001b[36mINFO\u001b[0m    | Task run 'get_customer_ids-0bd' - Finished in state \u001b[32mCompleted\u001b[0m()\n",
      "13:58:53.539 | \u001b[36mINFO\u001b[0m    | Task run 'process_customer-a51' - Finished in state \u001b[32mCompleted\u001b[0m()\n",
      "13:58:53.556 | \u001b[36mINFO\u001b[0m    | Task run 'process_customer-d71' - Finished in state \u001b[32mCompleted\u001b[0m()\n",
      "13:58:53.564 | \u001b[36mINFO\u001b[0m    | Task run 'process_customer-833' - Finished in state \u001b[32mCompleted\u001b[0m()\n",
      "13:58:53.566 | \u001b[36mINFO\u001b[0m    | Task run 'process_customer-56c' - Finished in state \u001b[32mCompleted\u001b[0m()\n",
      "13:58:53.571 | \u001b[36mINFO\u001b[0m    | Task run 'process_customer-fa1' - Finished in state \u001b[32mCompleted\u001b[0m()\n",
      "13:58:53.573 | \u001b[36mINFO\u001b[0m    | Task run 'process_customer-4a6' - Finished in state \u001b[32mCompleted\u001b[0m()\n",
      "13:58:53.574 | \u001b[36mINFO\u001b[0m    | Task run 'process_customer-5d9' - Finished in state \u001b[32mCompleted\u001b[0m()\n",
      "13:58:53.574 | \u001b[36mINFO\u001b[0m    | Task run 'process_customer-f92' - Finished in state \u001b[32mCompleted\u001b[0m()\n",
      "13:58:53.580 | \u001b[36mINFO\u001b[0m    | Task run 'process_customer-bab' - Finished in state \u001b[32mCompleted\u001b[0m()\n",
      "13:58:53.580 | \u001b[36mINFO\u001b[0m    | Task run 'process_customer-0c4' - Finished in state \u001b[32mCompleted\u001b[0m()\n",
      "13:58:53.658 | \u001b[36mINFO\u001b[0m    | Flow run\u001b[35m 'hospitable-angelfish'\u001b[0m - Finished in state \u001b[32mCompleted\u001b[0m('All states completed.')\n",
      "13:58:53.714 | \u001b[36mINFO\u001b[0m    | prefect - Stopping temporary server on \u001b[94mhttp://127.0.0.1:8098\u001b[0m\n"
     ]
    }
   ],
   "source": [
    "!python 01_getting_started.py"
   ]
  },
  {
   "cell_type": "markdown",
   "id": "b2da653a-889a-4fe7-8652-86d9c5887110",
   "metadata": {},
   "source": [
    "# Orchestrate pipeline code from class\n",
    "- add `@flow` and `@task` decorators to the respective functions\n",
    "- run the following:"
   ]
  },
  {
   "cell_type": "markdown",
   "id": "cdb19344-c476-4b4e-a1e0-a75ddc2a9367",
   "metadata": {},
   "source": [
    "start mlflow in the folder 03-orchestration/module-3.3-orch\n",
    "\n",
    "`mlflow server --backend-store-uri sqlite:///mlflow.db`"
   ]
  },
  {
   "cell_type": "code",
   "execution_count": 7,
   "id": "1ef2e60d-2bc3-492f-8971-1165e7407fc4",
   "metadata": {},
   "outputs": [
    {
     "name": "stdout",
     "output_type": "stream",
     "text": [
      "14:52:04.836 | \u001b[36mINFO\u001b[0m    | prefect - Starting temporary server on \u001b[94mhttp://127.0.0.1:8472\u001b[0m\n",
      "See \u001b[94mhttps://docs.prefect.io/3.0/manage/self-host#self-host-a-prefect-server\u001b[0m for more information on running a dedicated Prefect server.\n",
      "14:52:08.141 | \u001b[36mINFO\u001b[0m    | Flow run\u001b[35m 'brainy-panther'\u001b[0m - Beginning flow run\u001b[35m 'brainy-panther'\u001b[0m for flow\u001b[1;35m 'run'\u001b[0m\n",
      "14:52:08.798 | \u001b[36mINFO\u001b[0m    | Task run 'read_dataframe-df8' - Finished in state \u001b[32mCompleted\u001b[0m()\n",
      "14:52:09.153 | \u001b[36mINFO\u001b[0m    | Task run 'read_dataframe-08a' - Finished in state \u001b[32mCompleted\u001b[0m()\n",
      "14:52:09.513 | \u001b[36mINFO\u001b[0m    | Task run 'create_X-0b7' - Finished in state \u001b[32mCompleted\u001b[0m()\n",
      "14:52:09.814 | \u001b[36mINFO\u001b[0m    | Task run 'create_X-9d1' - Finished in state \u001b[32mCompleted\u001b[0m()\n",
      "/home/codespace/venv/lib/python3.12/site-packages/xgboost/callback.py:386: UserWarning: [14:52:10] WARNING: /workspace/src/objective/regression_obj.cu:250: reg:linear is now deprecated in favor of reg:squarederror.\n",
      "  self.starting_round = model.num_boosted_rounds()\n",
      "14:52:12.762 | \u001b[36mINFO\u001b[0m    | Task run 'train_model-71e' - [0]       validation-rmse:11.44482\n",
      "14:52:14.419 | \u001b[36mINFO\u001b[0m    | Task run 'train_model-71e' - [1]       validation-rmse:10.77202\n",
      "14:52:15.990 | \u001b[36mINFO\u001b[0m    | Task run 'train_model-71e' - [2]       validation-rmse:10.18363\n",
      "14:52:17.483 | \u001b[36mINFO\u001b[0m    | Task run 'train_model-71e' - [3]       validation-rmse:9.67396\n",
      "14:52:19.163 | \u001b[36mINFO\u001b[0m    | Task run 'train_model-71e' - [4]       validation-rmse:9.23166\n",
      "14:52:20.724 | \u001b[36mINFO\u001b[0m    | Task run 'train_model-71e' - [5]       validation-rmse:8.84808\n",
      "14:52:22.235 | \u001b[36mINFO\u001b[0m    | Task run 'train_model-71e' - [6]       validation-rmse:8.51883\n",
      "14:52:23.817 | \u001b[36mINFO\u001b[0m    | Task run 'train_model-71e' - [7]       validation-rmse:8.23597\n",
      "14:52:25.383 | \u001b[36mINFO\u001b[0m    | Task run 'train_model-71e' - [8]       validation-rmse:7.99320\n",
      "14:52:26.768 | \u001b[36mINFO\u001b[0m    | Task run 'train_model-71e' - [9]       validation-rmse:7.78709\n",
      "14:52:28.084 | \u001b[36mINFO\u001b[0m    | Task run 'train_model-71e' - [10]      validation-rmse:7.61022\n",
      "14:52:29.390 | \u001b[36mINFO\u001b[0m    | Task run 'train_model-71e' - [11]      validation-rmse:7.45952\n",
      "14:52:30.624 | \u001b[36mINFO\u001b[0m    | Task run 'train_model-71e' - [12]      validation-rmse:7.33049\n",
      "14:52:31.827 | \u001b[36mINFO\u001b[0m    | Task run 'train_model-71e' - [13]      validation-rmse:7.22098\n",
      "14:52:32.892 | \u001b[36mINFO\u001b[0m    | Task run 'train_model-71e' - [14]      validation-rmse:7.12713\n",
      "14:52:34.138 | \u001b[36mINFO\u001b[0m    | Task run 'train_model-71e' - [15]      validation-rmse:7.04752\n",
      "14:52:35.242 | \u001b[36mINFO\u001b[0m    | Task run 'train_model-71e' - [16]      validation-rmse:6.98005\n",
      "14:52:36.220 | \u001b[36mINFO\u001b[0m    | Task run 'train_model-71e' - [17]      validation-rmse:6.92232\n",
      "14:52:37.159 | \u001b[36mINFO\u001b[0m    | Task run 'train_model-71e' - [18]      validation-rmse:6.87112\n",
      "14:52:38.131 | \u001b[36mINFO\u001b[0m    | Task run 'train_model-71e' - [19]      validation-rmse:6.82740\n",
      "14:52:39.078 | \u001b[36mINFO\u001b[0m    | Task run 'train_model-71e' - [20]      validation-rmse:6.78995\n",
      "14:52:39.984 | \u001b[36mINFO\u001b[0m    | Task run 'train_model-71e' - [21]      validation-rmse:6.75792\n",
      "14:52:40.967 | \u001b[36mINFO\u001b[0m    | Task run 'train_model-71e' - [22]      validation-rmse:6.72994\n",
      "14:52:41.898 | \u001b[36mINFO\u001b[0m    | Task run 'train_model-71e' - [23]      validation-rmse:6.70547\n",
      "14:52:42.715 | \u001b[36mINFO\u001b[0m    | Task run 'train_model-71e' - [24]      validation-rmse:6.68390\n",
      "14:52:43.518 | \u001b[36mINFO\u001b[0m    | Task run 'train_model-71e' - [25]      validation-rmse:6.66421\n",
      "14:52:44.334 | \u001b[36mINFO\u001b[0m    | Task run 'train_model-71e' - [26]      validation-rmse:6.64806\n",
      "14:52:45.044 | \u001b[36mINFO\u001b[0m    | Task run 'train_model-71e' - [27]      validation-rmse:6.63280\n",
      "14:52:45.753 | \u001b[36mINFO\u001b[0m    | Task run 'train_model-71e' - [28]      validation-rmse:6.61924\n",
      "14:52:46.510 | \u001b[36mINFO\u001b[0m    | Task run 'train_model-71e' - [29]      validation-rmse:6.60773\n",
      "2025/07/02 14:52:47 WARNING mlflow.models.model: `artifact_path` is deprecated. Please use `name` instead.\n",
      "/home/codespace/venv/lib/python3.12/site-packages/mlflow/xgboost/__init__.py:168: UserWarning: [14:52:47] WARNING: /workspace/src/c_api/c_api.cc:1427: Saving model in the UBJSON format as default.  You can use file extension: `json`, `ubj` or `deprecated` to choose between formats.\n",
      "  xgb_model.save_model(model_data_path)\n",
      "\u001b[31m2025/07/02 14:52:53 WARNING mlflow.models.model: Model logged without a signature and input example. Please set `input_example` parameter when logging the model to auto infer the model signature.\u001b[0m\n",
      "🏃 View run valuable-cub-331 at: http://localhost:5000/#/experiments/1/runs/008d4e3764c340f388a1b9b88df0fbfb\n",
      "🧪 View experiment at: http://localhost:5000/#/experiments/1\n",
      "14:52:53.786 | \u001b[36mINFO\u001b[0m    | Task run 'train_model-71e' - Finished in state \u001b[32mCompleted\u001b[0m()\n",
      "MLflow run_id: 008d4e3764c340f388a1b9b88df0fbfb\n",
      "14:52:53.813 | \u001b[36mINFO\u001b[0m    | Flow run\u001b[35m 'brainy-panther'\u001b[0m - Finished in state \u001b[32mCompleted\u001b[0m()\n",
      "14:52:53.822 | \u001b[36mINFO\u001b[0m    | prefect - Stopping temporary server on \u001b[94mhttp://127.0.0.1:8472\u001b[0m\n"
     ]
    }
   ],
   "source": [
    "!python duration-prediction.py --year 2021 --month 1"
   ]
  },
  {
   "cell_type": "markdown",
   "id": "7aa0ab44-de79-43d4-bb70-5da4206bba03",
   "metadata": {},
   "source": [
    "# Parametrizing the Workflow\n",
    "\n",
    "## General\n",
    "run the following commands to\n",
    "1. create a work pool\n",
    "    - where (locally, Docker, EC2)\n",
    "    - how (settings, environment variables, ressouce limits)\n",
    "    - when (schedule)\n",
    "2. configure deployment"
   ]
  },
  {
   "cell_type": "code",
   "execution_count": 5,
   "id": "fc182e36-938b-49bd-9b66-bb9c990c0de4",
   "metadata": {},
   "outputs": [
    {
     "name": "stdout",
     "output_type": "stream",
     "text": [
      "/workspaces/mlops-zoomcamp/03-orchestration/module-3.3-orch\n"
     ]
    }
   ],
   "source": [
    "!pwd"
   ]
  },
  {
   "cell_type": "markdown",
   "id": "73f65708-736e-4d31-aad8-239dc5b46600",
   "metadata": {},
   "source": [
    "- in the directory `mlops-zoomcamp/03-orchestration/module-3.3-orch` run the following command to configure a deployment\n",
    "\n",
    "`prefect deploy duration-prediction.py:run -n taxi-1 -p module-03-pool`\n",
    "\n",
    "1. configure it to take the local code (no pull)\n",
    "2. configure schedule using cron string: `0 16 1 * *` (At 04:00 PM, on day 1 of the month)\n",
    "3. configure time zone CET\n",
    "4. activate schedule: no\n",
    "5. add another schedule: no\n",
    "6. save configuration: yes (create `prefect.yaml`)"
   ]
  },
  {
   "cell_type": "markdown",
   "id": "64f52e25-296e-4aa2-a5f4-94850502e0e8",
   "metadata": {},
   "source": [
    "## activate monthly schedule"
   ]
  },
  {
   "cell_type": "code",
   "execution_count": 16,
   "id": "b964db41-1946-408a-bdf1-bd3db6abb4fa",
   "metadata": {},
   "outputs": [
    {
     "name": "stdout",
     "output_type": "stream",
     "text": [
      "13:14:47.265 | \u001b[36mINFO\u001b[0m    | prefect - Starting temporary server on \u001b[94mhttp://127.0.0.1:8404\u001b[0m\n",
      "See \u001b[94mhttps://docs.prefect.io/3.0/manage/self-host#self-host-a-prefect-server\u001b[0m for more information on running a dedicated Prefect server.\n",
      "\u001b[3m                        Deployment Schedules                        \u001b[0m\n",
      "┏━━━━━━━━━━━━━━━━━━━━━━━━━━━━━━━━━━━━━━┳━━━━━━━━━━━━━━━━━━┳━━━━━━━━┓\n",
      "┃\u001b[1m \u001b[0m\u001b[1mID                                  \u001b[0m\u001b[1m \u001b[0m┃\u001b[1m \u001b[0m\u001b[1mSchedule        \u001b[0m\u001b[1m \u001b[0m┃\u001b[1m \u001b[0m\u001b[1mActive\u001b[0m\u001b[1m \u001b[0m┃\n",
      "┡━━━━━━━━━━━━━━━━━━━━━━━━━━━━━━━━━━━━━━╇━━━━━━━━━━━━━━━━━━╇━━━━━━━━┩\n",
      "│\u001b[34m \u001b[0m\u001b[34m4cbfb9af-9212-42ad-85ec-f31c34257653\u001b[0m\u001b[34m \u001b[0m│\u001b[36m \u001b[0m\u001b[36mcron: 0 16 1 * *\u001b[0m\u001b[36m \u001b[0m│\u001b[38;5;129m \u001b[0m\u001b[38;5;129mTrue  \u001b[0m\u001b[38;5;129m \u001b[0m│\n",
      "└──────────────────────────────────────┴──────────────────┴────────┘\n",
      "13:14:50.681 | \u001b[36mINFO\u001b[0m    | prefect - Stopping temporary server on \u001b[94mhttp://127.0.0.1:8404\u001b[0m\n"
     ]
    }
   ],
   "source": [
    "!prefect deployment schedule ls run/taxi-1"
   ]
  },
  {
   "cell_type": "code",
   "execution_count": 17,
   "id": "b67a7c88-c58c-402e-bde7-2083c02efb36",
   "metadata": {},
   "outputs": [
    {
     "name": "stdout",
     "output_type": "stream",
     "text": [
      "13:15:00.187 | \u001b[36mINFO\u001b[0m    | prefect - Starting temporary server on \u001b[94mhttp://127.0.0.1:8974\u001b[0m\n",
      "See \u001b[94mhttps://docs.prefect.io/3.0/manage/self-host#self-host-a-prefect-server\u001b[0m for more information on running a dedicated Prefect server.\n",
      "\u001b[31mDeployment schedule 4cbfb9af-9212-42ad-85ec-f31c34257653 is already active\u001b[0m\n",
      "13:15:03.475 | \u001b[36mINFO\u001b[0m    | prefect - Stopping temporary server on \u001b[94mhttp://127.0.0.1:8974\u001b[0m\n"
     ]
    }
   ],
   "source": [
    "!prefect deployment schedule resume run/taxi-1 4cbfb9af-9212-42ad-85ec-f31c34257653"
   ]
  },
  {
   "cell_type": "markdown",
   "id": "da7abc1e-64ec-4459-9a40-2a779dda04b7",
   "metadata": {},
   "source": [
    "## change script to use previous 2 months\n",
    "## if you want to redeploy after code change:\n",
    "`prefect deploy`\n",
    "- select configuration interactively"
   ]
  },
  {
   "cell_type": "markdown",
   "id": "45e903fc-49f4-4193-ab05-d8d084905728",
   "metadata": {},
   "source": [
    "## start a work which polls the work pool (EXECUTION ENVIRONMENT)\n",
    "```\n",
    "export PREFECT_API_URL=http://127.0.0.1:4200/api\n",
    "prefect worker start -p module-03-pool\n",
    "```\n",
    "- now the flow can run, started by the UI or `prefect deployment run run/taxi-1`\n",
    "- you can list the deployment via `prefect deployment ls`"
   ]
  },
  {
   "cell_type": "markdown",
   "id": "4a56d540-ea3c-4125-8196-1dfb4504a36c",
   "metadata": {},
   "source": [
    "warum bleiben workpools noch für kurze zeit online wenn der worker nicht mehr da ist?"
   ]
  },
  {
   "cell_type": "markdown",
   "id": "cadecb93-5556-49e5-9028-687e211e9250",
   "metadata": {},
   "source": [
    "# Backfilling\n",
    "- as there is this does not work with prefect schedule with rrule, here is the manual way vai CLI"
   ]
  },
  {
   "cell_type": "code",
   "execution_count": 10,
   "id": "ff85fa85-af43-4c22-a555-40a1f16d9b47",
   "metadata": {},
   "outputs": [
    {
     "name": "stdout",
     "output_type": "stream",
     "text": [
      "12:43:39.306 | \u001b[36mINFO\u001b[0m    | prefect - Starting temporary server on \u001b[94mhttp://127.0.0.1:8758\u001b[0m\n",
      "See \u001b[94mhttps://docs.prefect.io/3.0/manage/self-host#self-host-a-prefect-server\u001b[0m for more information on running a dedicated Prefect server.\n",
      "Creating flow run for deployment 'run/taxi-1'...\n",
      "Created flow run 'dark-weasel'.\n",
      "└── UUID: a044f97d-9409-4896-8a32-2fc3c09bed38\n",
      "└── Parameters: {'year': 2024, 'month': 1}\n",
      "└── Job Variables: {}\n",
      "└── Scheduled start time: 2025-07-03 12:43:38 UTC (now)\n",
      "└── URL: <no dashboard available>\n",
      "12:43:42.594 | \u001b[36mINFO\u001b[0m    | prefect - Stopping temporary server on \u001b[94mhttp://127.0.0.1:8758\u001b[0m\n",
      "12:43:48.039 | \u001b[36mINFO\u001b[0m    | prefect - Starting temporary server on \u001b[94mhttp://127.0.0.1:8704\u001b[0m\n",
      "See \u001b[94mhttps://docs.prefect.io/3.0/manage/self-host#self-host-a-prefect-server\u001b[0m for more information on running a dedicated Prefect server.\n",
      "Creating flow run for deployment 'run/taxi-1'...\n",
      "Created flow run 'prompt-bison'.\n",
      "└── UUID: c714d508-f4cb-4884-934f-85968f245ff9\n",
      "└── Parameters: {'year': 2024, 'month': 2}\n",
      "└── Job Variables: {}\n",
      "└── Scheduled start time: 2025-07-03 12:43:47 UTC (now)\n",
      "└── URL: <no dashboard available>\n",
      "12:43:53.911 | \u001b[36mINFO\u001b[0m    | prefect - Stopping temporary server on \u001b[94mhttp://127.0.0.1:8704\u001b[0m\n",
      "12:44:05.916 | \u001b[36mINFO\u001b[0m    | prefect - Starting temporary server on \u001b[94mhttp://127.0.0.1:8562\u001b[0m\n",
      "See \u001b[94mhttps://docs.prefect.io/3.0/manage/self-host#self-host-a-prefect-server\u001b[0m for more information on running a dedicated Prefect server.\n",
      "Creating flow run for deployment 'run/taxi-1'...\n",
      "Created flow run 'gentle-turtle'.\n",
      "└── UUID: 0fca942a-bfc7-4df8-9935-3e6e147d8125\n",
      "└── Parameters: {'year': 2024, 'month': 3}\n",
      "└── Job Variables: {}\n",
      "└── Scheduled start time: 2025-07-03 12:44:04 UTC (now)\n",
      "└── URL: <no dashboard available>\n",
      "12:44:18.404 | \u001b[36mINFO\u001b[0m    | prefect - Stopping temporary server on \u001b[94mhttp://127.0.0.1:8562\u001b[0m\n"
     ]
    }
   ],
   "source": [
    "!prefect deployment run run/taxi-1 --params '{\"year\": 2024, \"month\": 1}'\n",
    "!prefect deployment run run/taxi-1 --params '{\"year\": 2024, \"month\": 2}'\n",
    "!prefect deployment run run/taxi-1 --params '{\"year\": 2024, \"month\": 3}'"
   ]
  }
 ],
 "metadata": {
  "kernelspec": {
   "display_name": "Python 3 (ipykernel)",
   "language": "python",
   "name": "python3"
  },
  "language_info": {
   "codemirror_mode": {
    "name": "ipython",
    "version": 3
   },
   "file_extension": ".py",
   "mimetype": "text/x-python",
   "name": "python",
   "nbconvert_exporter": "python",
   "pygments_lexer": "ipython3",
   "version": "3.12.1"
  }
 },
 "nbformat": 4,
 "nbformat_minor": 5
}
