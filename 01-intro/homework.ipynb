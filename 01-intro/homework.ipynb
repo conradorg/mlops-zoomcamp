{
 "cells": [
  {
   "cell_type": "code",
   "execution_count": 29,
   "id": "7c6f0554-8235-427d-9351-f08d0e9b769c",
   "metadata": {},
   "outputs": [],
   "source": [
    "import pandas as pd\n",
    "import numpy as np\n",
    "\n",
    "from sklearn.feature_extraction import DictVectorizer\n",
    "from sklearn.linear_model import LinearRegression\n",
    "from sklearn.metrics import root_mean_squared_error\n",
    "\n",
    "import seaborn as sns\n",
    "import matplotlib.pyplot as plt\n",
    "\n",
    "import warnings\n",
    "warnings.filterwarnings('ignore')"
   ]
  },
  {
   "cell_type": "markdown",
   "id": "5e909596-6af1-4620-a8d6-f9acfa3750f2",
   "metadata": {},
   "source": [
    "# Downloading the data"
   ]
  },
  {
   "cell_type": "code",
   "execution_count": 2,
   "id": "ba37d792-9962-488b-a356-2bc4da081402",
   "metadata": {},
   "outputs": [],
   "source": [
    "df = pd.read_parquet(\"https://d37ci6vzurychx.cloudfront.net/trip-data/yellow_tripdata_2023-01.parquet\")"
   ]
  },
  {
   "cell_type": "code",
   "execution_count": 3,
   "id": "f5f98e7c-8bd3-4750-b332-d9d9fffb4331",
   "metadata": {},
   "outputs": [
    {
     "data": {
      "text/html": [
       "<div>\n",
       "<style scoped>\n",
       "    .dataframe tbody tr th:only-of-type {\n",
       "        vertical-align: middle;\n",
       "    }\n",
       "\n",
       "    .dataframe tbody tr th {\n",
       "        vertical-align: top;\n",
       "    }\n",
       "\n",
       "    .dataframe thead th {\n",
       "        text-align: right;\n",
       "    }\n",
       "</style>\n",
       "<table border=\"1\" class=\"dataframe\">\n",
       "  <thead>\n",
       "    <tr style=\"text-align: right;\">\n",
       "      <th></th>\n",
       "      <th>VendorID</th>\n",
       "      <th>tpep_pickup_datetime</th>\n",
       "      <th>tpep_dropoff_datetime</th>\n",
       "      <th>passenger_count</th>\n",
       "      <th>trip_distance</th>\n",
       "      <th>RatecodeID</th>\n",
       "      <th>store_and_fwd_flag</th>\n",
       "      <th>PULocationID</th>\n",
       "      <th>DOLocationID</th>\n",
       "      <th>payment_type</th>\n",
       "      <th>fare_amount</th>\n",
       "      <th>extra</th>\n",
       "      <th>mta_tax</th>\n",
       "      <th>tip_amount</th>\n",
       "      <th>tolls_amount</th>\n",
       "      <th>improvement_surcharge</th>\n",
       "      <th>total_amount</th>\n",
       "      <th>congestion_surcharge</th>\n",
       "      <th>airport_fee</th>\n",
       "    </tr>\n",
       "  </thead>\n",
       "  <tbody>\n",
       "    <tr>\n",
       "      <th>0</th>\n",
       "      <td>2</td>\n",
       "      <td>2023-01-01 00:32:10</td>\n",
       "      <td>2023-01-01 00:40:36</td>\n",
       "      <td>1.0</td>\n",
       "      <td>0.97</td>\n",
       "      <td>1.0</td>\n",
       "      <td>N</td>\n",
       "      <td>161</td>\n",
       "      <td>141</td>\n",
       "      <td>2</td>\n",
       "      <td>9.3</td>\n",
       "      <td>1.00</td>\n",
       "      <td>0.5</td>\n",
       "      <td>0.00</td>\n",
       "      <td>0.0</td>\n",
       "      <td>1.0</td>\n",
       "      <td>14.30</td>\n",
       "      <td>2.5</td>\n",
       "      <td>0.00</td>\n",
       "    </tr>\n",
       "    <tr>\n",
       "      <th>1</th>\n",
       "      <td>2</td>\n",
       "      <td>2023-01-01 00:55:08</td>\n",
       "      <td>2023-01-01 01:01:27</td>\n",
       "      <td>1.0</td>\n",
       "      <td>1.10</td>\n",
       "      <td>1.0</td>\n",
       "      <td>N</td>\n",
       "      <td>43</td>\n",
       "      <td>237</td>\n",
       "      <td>1</td>\n",
       "      <td>7.9</td>\n",
       "      <td>1.00</td>\n",
       "      <td>0.5</td>\n",
       "      <td>4.00</td>\n",
       "      <td>0.0</td>\n",
       "      <td>1.0</td>\n",
       "      <td>16.90</td>\n",
       "      <td>2.5</td>\n",
       "      <td>0.00</td>\n",
       "    </tr>\n",
       "    <tr>\n",
       "      <th>2</th>\n",
       "      <td>2</td>\n",
       "      <td>2023-01-01 00:25:04</td>\n",
       "      <td>2023-01-01 00:37:49</td>\n",
       "      <td>1.0</td>\n",
       "      <td>2.51</td>\n",
       "      <td>1.0</td>\n",
       "      <td>N</td>\n",
       "      <td>48</td>\n",
       "      <td>238</td>\n",
       "      <td>1</td>\n",
       "      <td>14.9</td>\n",
       "      <td>1.00</td>\n",
       "      <td>0.5</td>\n",
       "      <td>15.00</td>\n",
       "      <td>0.0</td>\n",
       "      <td>1.0</td>\n",
       "      <td>34.90</td>\n",
       "      <td>2.5</td>\n",
       "      <td>0.00</td>\n",
       "    </tr>\n",
       "    <tr>\n",
       "      <th>3</th>\n",
       "      <td>1</td>\n",
       "      <td>2023-01-01 00:03:48</td>\n",
       "      <td>2023-01-01 00:13:25</td>\n",
       "      <td>0.0</td>\n",
       "      <td>1.90</td>\n",
       "      <td>1.0</td>\n",
       "      <td>N</td>\n",
       "      <td>138</td>\n",
       "      <td>7</td>\n",
       "      <td>1</td>\n",
       "      <td>12.1</td>\n",
       "      <td>7.25</td>\n",
       "      <td>0.5</td>\n",
       "      <td>0.00</td>\n",
       "      <td>0.0</td>\n",
       "      <td>1.0</td>\n",
       "      <td>20.85</td>\n",
       "      <td>0.0</td>\n",
       "      <td>1.25</td>\n",
       "    </tr>\n",
       "    <tr>\n",
       "      <th>4</th>\n",
       "      <td>2</td>\n",
       "      <td>2023-01-01 00:10:29</td>\n",
       "      <td>2023-01-01 00:21:19</td>\n",
       "      <td>1.0</td>\n",
       "      <td>1.43</td>\n",
       "      <td>1.0</td>\n",
       "      <td>N</td>\n",
       "      <td>107</td>\n",
       "      <td>79</td>\n",
       "      <td>1</td>\n",
       "      <td>11.4</td>\n",
       "      <td>1.00</td>\n",
       "      <td>0.5</td>\n",
       "      <td>3.28</td>\n",
       "      <td>0.0</td>\n",
       "      <td>1.0</td>\n",
       "      <td>19.68</td>\n",
       "      <td>2.5</td>\n",
       "      <td>0.00</td>\n",
       "    </tr>\n",
       "  </tbody>\n",
       "</table>\n",
       "</div>"
      ],
      "text/plain": [
       "   VendorID tpep_pickup_datetime tpep_dropoff_datetime  passenger_count  \\\n",
       "0         2  2023-01-01 00:32:10   2023-01-01 00:40:36              1.0   \n",
       "1         2  2023-01-01 00:55:08   2023-01-01 01:01:27              1.0   \n",
       "2         2  2023-01-01 00:25:04   2023-01-01 00:37:49              1.0   \n",
       "3         1  2023-01-01 00:03:48   2023-01-01 00:13:25              0.0   \n",
       "4         2  2023-01-01 00:10:29   2023-01-01 00:21:19              1.0   \n",
       "\n",
       "   trip_distance  RatecodeID store_and_fwd_flag  PULocationID  DOLocationID  \\\n",
       "0           0.97         1.0                  N           161           141   \n",
       "1           1.10         1.0                  N            43           237   \n",
       "2           2.51         1.0                  N            48           238   \n",
       "3           1.90         1.0                  N           138             7   \n",
       "4           1.43         1.0                  N           107            79   \n",
       "\n",
       "   payment_type  fare_amount  extra  mta_tax  tip_amount  tolls_amount  \\\n",
       "0             2          9.3   1.00      0.5        0.00           0.0   \n",
       "1             1          7.9   1.00      0.5        4.00           0.0   \n",
       "2             1         14.9   1.00      0.5       15.00           0.0   \n",
       "3             1         12.1   7.25      0.5        0.00           0.0   \n",
       "4             1         11.4   1.00      0.5        3.28           0.0   \n",
       "\n",
       "   improvement_surcharge  total_amount  congestion_surcharge  airport_fee  \n",
       "0                    1.0         14.30                   2.5         0.00  \n",
       "1                    1.0         16.90                   2.5         0.00  \n",
       "2                    1.0         34.90                   2.5         0.00  \n",
       "3                    1.0         20.85                   0.0         1.25  \n",
       "4                    1.0         19.68                   2.5         0.00  "
      ]
     },
     "execution_count": 3,
     "metadata": {},
     "output_type": "execute_result"
    }
   ],
   "source": [
    "df.head()"
   ]
  },
  {
   "cell_type": "code",
   "execution_count": 4,
   "id": "f1665b08-6872-4923-aa51-1ca2ff442f72",
   "metadata": {},
   "outputs": [
    {
     "data": {
      "text/plain": [
       "19"
      ]
     },
     "execution_count": 4,
     "metadata": {},
     "output_type": "execute_result"
    }
   ],
   "source": [
    "len(df.columns)"
   ]
  },
  {
   "cell_type": "markdown",
   "id": "6a89e182-2899-4c6c-b6ad-b085cf24f68b",
   "metadata": {},
   "source": [
    "# Computing Duration"
   ]
  },
  {
   "cell_type": "code",
   "execution_count": 5,
   "id": "cccf7ab5-666e-4fb1-827b-85594d1f61cc",
   "metadata": {},
   "outputs": [],
   "source": [
    "df[\"duration\"] = df.tpep_dropoff_datetime - df.tpep_pickup_datetime\n",
    "df[\"duration\"] = df.duration.dt.total_seconds()/60"
   ]
  },
  {
   "cell_type": "code",
   "execution_count": 6,
   "id": "0e02203b-bbda-4137-a4b4-6b75d6e28646",
   "metadata": {},
   "outputs": [
    {
     "data": {
      "text/plain": [
       "np.float64(15.668995167330449)"
      ]
     },
     "execution_count": 6,
     "metadata": {},
     "output_type": "execute_result"
    }
   ],
   "source": [
    "df[\"duration\"].mean()"
   ]
  },
  {
   "cell_type": "code",
   "execution_count": 7,
   "id": "522a2f3e-ceb1-418d-9fe4-8b1c8761a7dc",
   "metadata": {},
   "outputs": [
    {
     "data": {
      "text/plain": [
       "np.float64(42.59435124195457)"
      ]
     },
     "execution_count": 7,
     "metadata": {},
     "output_type": "execute_result"
    }
   ],
   "source": [
    "df[\"duration\"].std()"
   ]
  },
  {
   "cell_type": "markdown",
   "id": "205a2aaa-7a38-4b72-ac1c-46023e5a4077",
   "metadata": {},
   "source": [
    "# Dropping Outliers"
   ]
  },
  {
   "cell_type": "code",
   "execution_count": 8,
   "id": "563bd87a-c718-4578-9630-a4d9e563b256",
   "metadata": {},
   "outputs": [
    {
     "data": {
      "text/plain": [
       "98.1220282212598"
      ]
     },
     "execution_count": 8,
     "metadata": {},
     "output_type": "execute_result"
    }
   ],
   "source": [
    "len(df[(df.duration >= 1) & (df.duration <= 60)]) / len(df) * 100"
   ]
  },
  {
   "cell_type": "code",
   "execution_count": 9,
   "id": "d22d60c5-7738-49e3-b47e-7f5734d99794",
   "metadata": {},
   "outputs": [],
   "source": [
    "df = df[(df.duration >= 1) & (df.duration <= 60)].copy()"
   ]
  },
  {
   "cell_type": "markdown",
   "id": "5a59ac02-5342-4b45-984e-fd180865bfa4",
   "metadata": {},
   "source": [
    "# One-hot encoding"
   ]
  },
  {
   "cell_type": "code",
   "execution_count": 10,
   "id": "e6e16025-2b1f-4820-9cb1-f203f547f868",
   "metadata": {},
   "outputs": [],
   "source": [
    "categorical = ['PULocationID', 'DOLocationID']\n",
    "df[categorical] = df[categorical].astype(str)\n",
    "train_dicts = df[categorical].to_dict(orient='records')"
   ]
  },
  {
   "cell_type": "code",
   "execution_count": 27,
   "id": "ada2d71d-b94b-40df-bc00-588c674a083f",
   "metadata": {},
   "outputs": [
    {
     "name": "stdout",
     "output_type": "stream",
     "text": [
      "['DOLocationID=1' 'DOLocationID=10' 'DOLocationID=100' 'DOLocationID=101'\n",
      " 'DOLocationID=102' 'DOLocationID=106' 'DOLocationID=107'\n",
      " 'DOLocationID=108' 'DOLocationID=109' 'DOLocationID=11'\n",
      " 'DOLocationID=111' 'DOLocationID=112' 'DOLocationID=113'\n",
      " 'DOLocationID=114' 'DOLocationID=115' 'DOLocationID=116'\n",
      " 'DOLocationID=117' 'DOLocationID=118' 'DOLocationID=119'\n",
      " 'DOLocationID=12' 'DOLocationID=120' 'DOLocationID=121'\n",
      " 'DOLocationID=122' 'DOLocationID=123' 'DOLocationID=124'\n",
      " 'DOLocationID=125' 'DOLocationID=126' 'DOLocationID=127'\n",
      " 'DOLocationID=128' 'DOLocationID=129' 'DOLocationID=13'\n",
      " 'DOLocationID=130' 'DOLocationID=131' 'DOLocationID=132'\n",
      " 'DOLocationID=133' 'DOLocationID=134' 'DOLocationID=135'\n",
      " 'DOLocationID=136' 'DOLocationID=137' 'DOLocationID=138'\n",
      " 'DOLocationID=139' 'DOLocationID=14' 'DOLocationID=140'\n",
      " 'DOLocationID=141' 'DOLocationID=142' 'DOLocationID=143'\n",
      " 'DOLocationID=144' 'DOLocationID=145' 'DOLocationID=146'\n",
      " 'DOLocationID=147' 'DOLocationID=148' 'DOLocationID=149'\n",
      " 'DOLocationID=15' 'DOLocationID=150' 'DOLocationID=151'\n",
      " 'DOLocationID=152' 'DOLocationID=153' 'DOLocationID=154'\n",
      " 'DOLocationID=155' 'DOLocationID=156' 'DOLocationID=157'\n",
      " 'DOLocationID=158' 'DOLocationID=159' 'DOLocationID=16'\n",
      " 'DOLocationID=160' 'DOLocationID=161' 'DOLocationID=162'\n",
      " 'DOLocationID=163' 'DOLocationID=164' 'DOLocationID=165'\n",
      " 'DOLocationID=166' 'DOLocationID=167' 'DOLocationID=168'\n",
      " 'DOLocationID=169' 'DOLocationID=17' 'DOLocationID=170'\n",
      " 'DOLocationID=171' 'DOLocationID=172' 'DOLocationID=173'\n",
      " 'DOLocationID=174' 'DOLocationID=175' 'DOLocationID=176'\n",
      " 'DOLocationID=177' 'DOLocationID=178' 'DOLocationID=179'\n",
      " 'DOLocationID=18' 'DOLocationID=180' 'DOLocationID=181'\n",
      " 'DOLocationID=182' 'DOLocationID=183' 'DOLocationID=184'\n",
      " 'DOLocationID=185' 'DOLocationID=186' 'DOLocationID=187'\n",
      " 'DOLocationID=188' 'DOLocationID=189' 'DOLocationID=19'\n",
      " 'DOLocationID=190' 'DOLocationID=191' 'DOLocationID=192'\n",
      " 'DOLocationID=193' 'DOLocationID=194' 'DOLocationID=195'\n",
      " 'DOLocationID=196' 'DOLocationID=197' 'DOLocationID=198' 'DOLocationID=2'\n",
      " 'DOLocationID=20' 'DOLocationID=200' 'DOLocationID=201'\n",
      " 'DOLocationID=202' 'DOLocationID=203' 'DOLocationID=204'\n",
      " 'DOLocationID=205' 'DOLocationID=206' 'DOLocationID=207'\n",
      " 'DOLocationID=208' 'DOLocationID=209' 'DOLocationID=21'\n",
      " 'DOLocationID=210' 'DOLocationID=211' 'DOLocationID=212'\n",
      " 'DOLocationID=213' 'DOLocationID=214' 'DOLocationID=215'\n",
      " 'DOLocationID=216' 'DOLocationID=217' 'DOLocationID=218'\n",
      " 'DOLocationID=219' 'DOLocationID=22' 'DOLocationID=220'\n",
      " 'DOLocationID=221' 'DOLocationID=222' 'DOLocationID=223'\n",
      " 'DOLocationID=224' 'DOLocationID=225' 'DOLocationID=226'\n",
      " 'DOLocationID=227' 'DOLocationID=228' 'DOLocationID=229'\n",
      " 'DOLocationID=23' 'DOLocationID=230' 'DOLocationID=231'\n",
      " 'DOLocationID=232' 'DOLocationID=233' 'DOLocationID=234'\n",
      " 'DOLocationID=235' 'DOLocationID=236' 'DOLocationID=237'\n",
      " 'DOLocationID=238' 'DOLocationID=239' 'DOLocationID=24'\n",
      " 'DOLocationID=240' 'DOLocationID=241' 'DOLocationID=242'\n",
      " 'DOLocationID=243' 'DOLocationID=244' 'DOLocationID=245'\n",
      " 'DOLocationID=246' 'DOLocationID=247' 'DOLocationID=248'\n",
      " 'DOLocationID=249' 'DOLocationID=25' 'DOLocationID=250'\n",
      " 'DOLocationID=251' 'DOLocationID=252' 'DOLocationID=253'\n",
      " 'DOLocationID=254' 'DOLocationID=255' 'DOLocationID=256'\n",
      " 'DOLocationID=257' 'DOLocationID=258' 'DOLocationID=259'\n",
      " 'DOLocationID=26' 'DOLocationID=260' 'DOLocationID=261'\n",
      " 'DOLocationID=262' 'DOLocationID=263' 'DOLocationID=264'\n",
      " 'DOLocationID=265' 'DOLocationID=27' 'DOLocationID=28' 'DOLocationID=29'\n",
      " 'DOLocationID=3' 'DOLocationID=30' 'DOLocationID=31' 'DOLocationID=32'\n",
      " 'DOLocationID=33' 'DOLocationID=34' 'DOLocationID=35' 'DOLocationID=36'\n",
      " 'DOLocationID=37' 'DOLocationID=38' 'DOLocationID=39' 'DOLocationID=4'\n",
      " 'DOLocationID=40' 'DOLocationID=41' 'DOLocationID=42' 'DOLocationID=43'\n",
      " 'DOLocationID=44' 'DOLocationID=45' 'DOLocationID=46' 'DOLocationID=47'\n",
      " 'DOLocationID=48' 'DOLocationID=49' 'DOLocationID=5' 'DOLocationID=50'\n",
      " 'DOLocationID=51' 'DOLocationID=52' 'DOLocationID=53' 'DOLocationID=54'\n",
      " 'DOLocationID=55' 'DOLocationID=56' 'DOLocationID=57' 'DOLocationID=58'\n",
      " 'DOLocationID=59' 'DOLocationID=6' 'DOLocationID=60' 'DOLocationID=61'\n",
      " 'DOLocationID=62' 'DOLocationID=63' 'DOLocationID=64' 'DOLocationID=65'\n",
      " 'DOLocationID=66' 'DOLocationID=67' 'DOLocationID=68' 'DOLocationID=69'\n",
      " 'DOLocationID=7' 'DOLocationID=70' 'DOLocationID=71' 'DOLocationID=72'\n",
      " 'DOLocationID=73' 'DOLocationID=74' 'DOLocationID=75' 'DOLocationID=76'\n",
      " 'DOLocationID=77' 'DOLocationID=78' 'DOLocationID=79' 'DOLocationID=8'\n",
      " 'DOLocationID=80' 'DOLocationID=81' 'DOLocationID=82' 'DOLocationID=83'\n",
      " 'DOLocationID=84' 'DOLocationID=85' 'DOLocationID=86' 'DOLocationID=87'\n",
      " 'DOLocationID=88' 'DOLocationID=89' 'DOLocationID=9' 'DOLocationID=90'\n",
      " 'DOLocationID=91' 'DOLocationID=92' 'DOLocationID=93' 'DOLocationID=94'\n",
      " 'DOLocationID=95' 'DOLocationID=96' 'DOLocationID=97' 'DOLocationID=98'\n",
      " 'DOLocationID=99' 'PULocationID=1' 'PULocationID=10' 'PULocationID=100'\n",
      " 'PULocationID=101' 'PULocationID=102' 'PULocationID=106'\n",
      " 'PULocationID=107' 'PULocationID=108' 'PULocationID=109'\n",
      " 'PULocationID=11' 'PULocationID=111' 'PULocationID=112'\n",
      " 'PULocationID=113' 'PULocationID=114' 'PULocationID=115'\n",
      " 'PULocationID=116' 'PULocationID=117' 'PULocationID=118'\n",
      " 'PULocationID=119' 'PULocationID=12' 'PULocationID=120'\n",
      " 'PULocationID=121' 'PULocationID=122' 'PULocationID=123'\n",
      " 'PULocationID=124' 'PULocationID=125' 'PULocationID=126'\n",
      " 'PULocationID=127' 'PULocationID=128' 'PULocationID=129'\n",
      " 'PULocationID=13' 'PULocationID=130' 'PULocationID=131'\n",
      " 'PULocationID=132' 'PULocationID=133' 'PULocationID=134'\n",
      " 'PULocationID=135' 'PULocationID=136' 'PULocationID=137'\n",
      " 'PULocationID=138' 'PULocationID=139' 'PULocationID=14'\n",
      " 'PULocationID=140' 'PULocationID=141' 'PULocationID=142'\n",
      " 'PULocationID=143' 'PULocationID=144' 'PULocationID=145'\n",
      " 'PULocationID=146' 'PULocationID=147' 'PULocationID=148'\n",
      " 'PULocationID=149' 'PULocationID=15' 'PULocationID=150'\n",
      " 'PULocationID=151' 'PULocationID=152' 'PULocationID=153'\n",
      " 'PULocationID=154' 'PULocationID=155' 'PULocationID=156'\n",
      " 'PULocationID=157' 'PULocationID=158' 'PULocationID=159'\n",
      " 'PULocationID=16' 'PULocationID=160' 'PULocationID=161'\n",
      " 'PULocationID=162' 'PULocationID=163' 'PULocationID=164'\n",
      " 'PULocationID=165' 'PULocationID=166' 'PULocationID=167'\n",
      " 'PULocationID=168' 'PULocationID=169' 'PULocationID=17'\n",
      " 'PULocationID=170' 'PULocationID=171' 'PULocationID=172'\n",
      " 'PULocationID=173' 'PULocationID=174' 'PULocationID=175'\n",
      " 'PULocationID=177' 'PULocationID=178' 'PULocationID=179'\n",
      " 'PULocationID=18' 'PULocationID=180' 'PULocationID=181'\n",
      " 'PULocationID=182' 'PULocationID=183' 'PULocationID=184'\n",
      " 'PULocationID=185' 'PULocationID=186' 'PULocationID=187'\n",
      " 'PULocationID=188' 'PULocationID=189' 'PULocationID=19'\n",
      " 'PULocationID=190' 'PULocationID=191' 'PULocationID=192'\n",
      " 'PULocationID=193' 'PULocationID=194' 'PULocationID=195'\n",
      " 'PULocationID=196' 'PULocationID=197' 'PULocationID=198'\n",
      " 'PULocationID=199' 'PULocationID=2' 'PULocationID=20' 'PULocationID=200'\n",
      " 'PULocationID=201' 'PULocationID=202' 'PULocationID=203'\n",
      " 'PULocationID=205' 'PULocationID=206' 'PULocationID=207'\n",
      " 'PULocationID=208' 'PULocationID=209' 'PULocationID=21'\n",
      " 'PULocationID=210' 'PULocationID=211' 'PULocationID=212'\n",
      " 'PULocationID=213' 'PULocationID=214' 'PULocationID=215'\n",
      " 'PULocationID=216' 'PULocationID=217' 'PULocationID=218'\n",
      " 'PULocationID=219' 'PULocationID=22' 'PULocationID=220'\n",
      " 'PULocationID=221' 'PULocationID=222' 'PULocationID=223'\n",
      " 'PULocationID=224' 'PULocationID=225' 'PULocationID=226'\n",
      " 'PULocationID=227' 'PULocationID=228' 'PULocationID=229'\n",
      " 'PULocationID=23' 'PULocationID=230' 'PULocationID=231'\n",
      " 'PULocationID=232' 'PULocationID=233' 'PULocationID=234'\n",
      " 'PULocationID=235' 'PULocationID=236' 'PULocationID=237'\n",
      " 'PULocationID=238' 'PULocationID=239' 'PULocationID=24'\n",
      " 'PULocationID=240' 'PULocationID=241' 'PULocationID=242'\n",
      " 'PULocationID=243' 'PULocationID=244' 'PULocationID=245'\n",
      " 'PULocationID=246' 'PULocationID=247' 'PULocationID=248'\n",
      " 'PULocationID=249' 'PULocationID=25' 'PULocationID=250'\n",
      " 'PULocationID=251' 'PULocationID=252' 'PULocationID=253'\n",
      " 'PULocationID=254' 'PULocationID=255' 'PULocationID=256'\n",
      " 'PULocationID=257' 'PULocationID=258' 'PULocationID=259'\n",
      " 'PULocationID=26' 'PULocationID=260' 'PULocationID=261'\n",
      " 'PULocationID=262' 'PULocationID=263' 'PULocationID=264'\n",
      " 'PULocationID=265' 'PULocationID=28' 'PULocationID=29' 'PULocationID=3'\n",
      " 'PULocationID=30' 'PULocationID=31' 'PULocationID=32' 'PULocationID=33'\n",
      " 'PULocationID=34' 'PULocationID=35' 'PULocationID=36' 'PULocationID=37'\n",
      " 'PULocationID=38' 'PULocationID=39' 'PULocationID=4' 'PULocationID=40'\n",
      " 'PULocationID=41' 'PULocationID=42' 'PULocationID=43' 'PULocationID=44'\n",
      " 'PULocationID=45' 'PULocationID=46' 'PULocationID=47' 'PULocationID=48'\n",
      " 'PULocationID=49' 'PULocationID=5' 'PULocationID=50' 'PULocationID=51'\n",
      " 'PULocationID=52' 'PULocationID=53' 'PULocationID=54' 'PULocationID=55'\n",
      " 'PULocationID=56' 'PULocationID=57' 'PULocationID=58' 'PULocationID=6'\n",
      " 'PULocationID=60' 'PULocationID=61' 'PULocationID=62' 'PULocationID=63'\n",
      " 'PULocationID=64' 'PULocationID=65' 'PULocationID=66' 'PULocationID=67'\n",
      " 'PULocationID=68' 'PULocationID=69' 'PULocationID=7' 'PULocationID=70'\n",
      " 'PULocationID=71' 'PULocationID=72' 'PULocationID=73' 'PULocationID=74'\n",
      " 'PULocationID=75' 'PULocationID=76' 'PULocationID=77' 'PULocationID=78'\n",
      " 'PULocationID=79' 'PULocationID=8' 'PULocationID=80' 'PULocationID=81'\n",
      " 'PULocationID=82' 'PULocationID=83' 'PULocationID=85' 'PULocationID=86'\n",
      " 'PULocationID=87' 'PULocationID=88' 'PULocationID=89' 'PULocationID=9'\n",
      " 'PULocationID=90' 'PULocationID=91' 'PULocationID=92' 'PULocationID=93'\n",
      " 'PULocationID=94' 'PULocationID=95' 'PULocationID=96' 'PULocationID=97'\n",
      " 'PULocationID=98']\n"
     ]
    }
   ],
   "source": [
    "dv = DictVectorizer()\n",
    "X_train = dv.fit_transform(train_dicts)\n",
    "print(dv.get_feature_names_out())"
   ]
  },
  {
   "cell_type": "code",
   "execution_count": 12,
   "id": "820e8d32-11da-481b-b22f-e0cbb678ad9f",
   "metadata": {},
   "outputs": [
    {
     "name": "stdout",
     "output_type": "stream",
     "text": [
      "{'PULocationID': '161', 'DOLocationID': '141'}\n",
      "<Compressed Sparse Row sparse matrix of dtype 'float64'\n",
      "\twith 2 stored elements and shape (1, 515)>\n",
      "  Coords\tValues\n",
      "  (0, 43)\t1.0\n",
      "  (0, 325)\t1.0\n"
     ]
    }
   ],
   "source": [
    "print(train_dicts[0])\n",
    "print(X_train[0])"
   ]
  },
  {
   "cell_type": "code",
   "execution_count": 13,
   "id": "d1c6ae18-be8a-4107-802e-dec66c3b16b0",
   "metadata": {},
   "outputs": [
    {
     "name": "stdout",
     "output_type": "stream",
     "text": [
      "Feature matrix size: (3009173, 515)\n"
     ]
    }
   ],
   "source": [
    "print(f'Feature matrix size: {X_train.shape}')"
   ]
  },
  {
   "cell_type": "markdown",
   "id": "d4df7f12-8298-4d8c-ac6d-11a9e7574439",
   "metadata": {},
   "source": [
    "### count unique entries of start and end"
   ]
  },
  {
   "cell_type": "code",
   "execution_count": 31,
   "id": "04c4a669-de46-4751-b8ef-6f3adccfb032",
   "metadata": {},
   "outputs": [
    {
     "name": "stdout",
     "output_type": "stream",
     "text": [
      "255\n",
      "260\n"
     ]
    }
   ],
   "source": [
    "print(len(np.unique(df.PULocationID)))\n",
    "print(len(np.unique(df.DOLocationID)))"
   ]
  },
  {
   "cell_type": "markdown",
   "id": "980d86e8-981c-469a-9c7b-072dda00d780",
   "metadata": {},
   "source": [
    "# Training a model"
   ]
  },
  {
   "cell_type": "code",
   "execution_count": 14,
   "id": "68c51952-f01e-406c-90c0-854287fca701",
   "metadata": {},
   "outputs": [],
   "source": [
    "target = 'duration'\n",
    "y_train = df[target].values"
   ]
  },
  {
   "cell_type": "code",
   "execution_count": 19,
   "id": "88c619e3-a0a7-47ed-a5c0-4d97b319a114",
   "metadata": {},
   "outputs": [
    {
     "name": "stdout",
     "output_type": "stream",
     "text": [
      "Train RMSE: 7.649262060509152\n"
     ]
    }
   ],
   "source": [
    "lr = LinearRegression()\n",
    "lr.fit(X_train, y_train)\n",
    "\n",
    "y_pred = lr.predict(X_train)\n",
    "\n",
    "print(f'Train RMSE: {root_mean_squared_error(y_train, y_pred)}')"
   ]
  },
  {
   "cell_type": "code",
   "execution_count": 20,
   "id": "a7011886-ad14-466c-b8ef-ee7a55296084",
   "metadata": {},
   "outputs": [
    {
     "data": {
      "image/png": "[encoded data removed]",
      "text/plain": [
       "<Figure size 640x480 with 1 Axes>"
      ]
     },
     "metadata": {},
     "output_type": "display_data"
    }
   ],
   "source": [
    "sns.histplot(y_pred, label='prediction')\n",
    "sns.histplot(y_train, label='actual')\n",
    "\n",
    "plt.legend();"
   ]
  },
  {
   "cell_type": "markdown",
   "id": "ca274db3-814a-423b-ada4-96009c3b27f5",
   "metadata": {},
   "source": [
    "# Evaluating the model"
   ]
  },
  {
   "cell_type": "code",
   "execution_count": 21,
   "id": "670d4d31-5308-4ab1-bfe5-4b739c8ec268",
   "metadata": {},
   "outputs": [],
   "source": [
    "categorical = ['PULocationID', 'DOLocationID']\n",
    "\n",
    "def read_data(filename):\n",
    "    df = pd.read_parquet(filename)\n",
    "\n",
    "    df['duration'] = df.tpep_dropoff_datetime - df.tpep_pickup_datetime\n",
    "    df.duration = df.duration.dt.total_seconds() / 60\n",
    "\n",
    "    df = df[(df.duration >= 1) & (df.duration <= 60)].copy()\n",
    "\n",
    "    df[categorical] = df[categorical].astype('str')\n",
    "    \n",
    "    return df\n"
   ]
  },
  {
   "cell_type": "code",
   "execution_count": 22,
   "id": "bd4c271a-f7b1-44a7-85ec-e51e3f7e60b1",
   "metadata": {},
   "outputs": [],
   "source": [
    "df_val = read_data('https://d37ci6vzurychx.cloudfront.net/trip-data/yellow_tripdata_2023-02.parquet')"
   ]
  },
  {
   "cell_type": "code",
   "execution_count": 23,
   "id": "f5496797-50c6-40a4-9ace-f39703d98017",
   "metadata": {},
   "outputs": [],
   "source": [
    "val_dicts = df_val[categorical].to_dict(orient='records')"
   ]
  },
  {
   "cell_type": "code",
   "execution_count": 24,
   "id": "28106679-b43c-493b-a125-d373868e426d",
   "metadata": {},
   "outputs": [],
   "source": [
    "X_val = dv.transform(val_dicts) \n",
    "y_val = df_val.duration.values"
   ]
  },
  {
   "cell_type": "code",
   "execution_count": 25,
   "id": "1781514a-d9c3-499c-b856-b476c09448af",
   "metadata": {},
   "outputs": [],
   "source": [
    "y_pred = lr.predict(X_val)"
   ]
  },
  {
   "cell_type": "code",
   "execution_count": 26,
   "id": "f18f6fcc-c05b-46c3-ae1c-c2396c875c93",
   "metadata": {},
   "outputs": [
    {
     "name": "stdout",
     "output_type": "stream",
     "text": [
      "Val RMSE: 7.811819098973374\n"
     ]
    }
   ],
   "source": [
    "print(f'Val RMSE: {root_mean_squared_error(y_val, y_pred)}')"
   ]
  }
 ],
 "metadata": {
  "kernelspec": {
   "display_name": "Python 3 (ipykernel)",
   "language": "python",
   "name": "python3"
  },
  "language_info": {
   "codemirror_mode": {
    "name": "ipython",
    "version": 3
   },
   "file_extension": ".py",
   "mimetype": "text/x-python",
   "name": "python",
   "nbconvert_exporter": "python",
   "pygments_lexer": "ipython3",
   "version": "3.12.1"
  }
 },
 "nbformat": 4,
 "nbformat_minor": 5
}
