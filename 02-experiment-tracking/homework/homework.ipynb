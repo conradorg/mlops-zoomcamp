{
 "cells": [
  {
   "cell_type": "markdown",
   "id": "5b9e956e-27d4-4ed3-a040-cd9f9683dee6",
   "metadata": {},
   "source": [
    "# Q1. Install MLflow"
   ]
  },
  {
   "cell_type": "code",
   "execution_count": 1,
   "id": "017081b7-8183-424f-9dbd-051ab34db3f2",
   "metadata": {},
   "outputs": [
    {
     "name": "stdout",
     "output_type": "stream",
     "text": [
      "mlflow, version 3.1.1\n"
     ]
    }
   ],
   "source": [
    "!mlflow --version"
   ]
  },
  {
   "cell_type": "markdown",
   "id": "89c5d9fc-9344-4e46-b43b-818da43385b8",
   "metadata": {},
   "source": [
    "# Q2. Download and preprocess the data"
   ]
  },
  {
   "cell_type": "code",
   "execution_count": 2,
   "id": "0315c8d4-579a-42ea-9040-c49229f3ede9",
   "metadata": {
    "scrolled": true
   },
   "outputs": [
    {
     "name": "stdout",
     "output_type": "stream",
     "text": [
      "mkdir: cannot create directory ‘taxi_data’: File exists\n",
      "--2025-07-02 10:54:56--  https://d37ci6vzurychx.cloudfront.net/trip-data/green_tripdata_2023-01.parquet\n",
      "Resolving d37ci6vzurychx.cloudfront.net (d37ci6vzurychx.cloudfront.net)... 18.239.38.147, 18.239.38.181, 18.239.38.83, ...\n",
      "Connecting to d37ci6vzurychx.cloudfront.net (d37ci6vzurychx.cloudfront.net)|18.239.38.147|:443... connected.\n",
      "HTTP request sent, awaiting response... 200 OK\n",
      "Length: 1427002 (1.4M) [binary/octet-stream]\n",
      "Saving to: ‘taxi_data/green_tripdata_2023-01.parquet.1’\n",
      "\n",
      "green_tripdata_2023 100%[===================>]   1.36M  --.-KB/s    in 0.01s   \n",
      "\n",
      "2025-07-02 10:54:56 (125 MB/s) - ‘taxi_data/green_tripdata_2023-01.parquet.1’ saved [1427002/1427002]\n",
      "\n",
      "--2025-07-02 10:54:56--  https://d37ci6vzurychx.cloudfront.net/trip-data/green_tripdata_2023-02.parquet\n",
      "Resolving d37ci6vzurychx.cloudfront.net (d37ci6vzurychx.cloudfront.net)... 18.239.38.163, 18.239.38.181, 18.239.38.147, ...\n",
      "Connecting to d37ci6vzurychx.cloudfront.net (d37ci6vzurychx.cloudfront.net)|18.239.38.163|:443... connected.\n",
      "HTTP request sent, awaiting response... 200 OK\n",
      "Length: 1533740 (1.5M) [binary/octet-stream]\n",
      "Saving to: ‘taxi_data/green_tripdata_2023-02.parquet.1’\n",
      "\n",
      "green_tripdata_2023 100%[===================>]   1.46M  --.-KB/s    in 0.01s   \n",
      "\n",
      "2025-07-02 10:54:56 (123 MB/s) - ‘taxi_data/green_tripdata_2023-02.parquet.1’ saved [1533740/1533740]\n",
      "\n",
      "--2025-07-02 10:54:56--  https://d37ci6vzurychx.cloudfront.net/trip-data/green_tripdata_2023-03.parquet\n",
      "Resolving d37ci6vzurychx.cloudfront.net (d37ci6vzurychx.cloudfront.net)... 18.239.38.83, 18.239.38.147, 18.239.38.163, ...\n",
      "Connecting to d37ci6vzurychx.cloudfront.net (d37ci6vzurychx.cloudfront.net)|18.239.38.83|:443... connected.\n",
      "HTTP request sent, awaiting response... 200 OK\n",
      "Length: 1730999 (1.7M) [binary/octet-stream]\n",
      "Saving to: ‘taxi_data/green_tripdata_2023-03.parquet.1’\n",
      "\n",
      "green_tripdata_2023 100%[===================>]   1.65M  --.-KB/s    in 0.01s   \n",
      "\n",
      "2025-07-02 10:54:57 (143 MB/s) - ‘taxi_data/green_tripdata_2023-03.parquet.1’ saved [1730999/1730999]\n",
      "\n"
     ]
    }
   ],
   "source": [
    "!mkdir taxi_data\n",
    "!wget -P taxi_data/ https://d37ci6vzurychx.cloudfront.net/trip-data/green_tripdata_2023-01.parquet\n",
    "!wget -P taxi_data/ https://d37ci6vzurychx.cloudfront.net/trip-data/green_tripdata_2023-02.parquet\n",
    "!wget -P taxi_data/ https://d37ci6vzurychx.cloudfront.net/trip-data/green_tripdata_2023-03.parquet"
   ]
  },
  {
   "cell_type": "code",
   "execution_count": 3,
   "id": "409fa8c0-7d03-47c2-b6c1-db0c81df352d",
   "metadata": {},
   "outputs": [
    {
     "name": "stdout",
     "output_type": "stream",
     "text": [
      "/workspaces/mlops-zoomcamp/02-experiment-tracking/homework\n"
     ]
    }
   ],
   "source": [
    "!pwd\n",
    "!python preprocess_data.py --raw_data_path taxi_data/ --dest_path ./output"
   ]
  },
  {
   "cell_type": "code",
   "execution_count": 4,
   "id": "b36b6be7-1a74-4fd2-8d04-3951f4f35943",
   "metadata": {},
   "outputs": [
    {
     "name": "stdout",
     "output_type": "stream",
     "text": [
      "dv.pkl\ttest.pkl  train.pkl  val.pkl\n",
      "4\n"
     ]
    }
   ],
   "source": [
    "!ls output/\n",
    "!ls -1 output/ | wc -l"
   ]
  },
  {
   "cell_type": "markdown",
   "id": "5f9abf77-88ee-4eb2-8a67-5e91aaf0ce0d",
   "metadata": {},
   "source": [
    "# Q3. Train a model with autolog"
   ]
  },
  {
   "cell_type": "code",
   "execution_count": 5,
   "id": "620f5a8d-1d91-4f22-8dab-65b50e1aea01",
   "metadata": {},
   "outputs": [
    {
     "name": "stdout",
     "output_type": "stream",
     "text": [
      "2025/07/02 10:55:07 INFO mlflow.tracking.fluent: Autologging successfully enabled for sklearn.\n"
     ]
    }
   ],
   "source": [
    "!python train.py"
   ]
  },
  {
   "cell_type": "markdown",
   "id": "561b8cd9-4208-439d-ba26-8ec8136eb537",
   "metadata": {},
   "source": [
    "- launch mlflow in the homework dir: `mlflow ui`\n",
    "- look for value of min_samples_split in the experiment\n",
    "- min_samples_split: 2"
   ]
  },
  {
   "cell_type": "markdown",
   "id": "f176f12d-67e9-4d7a-8c43-a799b0c5c8b8",
   "metadata": {},
   "source": [
    "# Q4. Launch the tracking server locally"
   ]
  },
  {
   "cell_type": "markdown",
   "id": "0fd0b6c6-ae34-48b5-86f1-ed5bf8838745",
   "metadata": {},
   "source": [
    "run `mlflow server --backend-store-uri sqlite:///my.db --default-artifact-root artifacts/`"
   ]
  },
  {
   "cell_type": "markdown",
   "id": "11ef52dd-32bb-44f6-8138-c82846bd58e2",
   "metadata": {},
   "source": [
    "# Q5. Tune model hyperparameters"
   ]
  },
  {
   "cell_type": "markdown",
   "id": "75dd6859-09e3-4f53-a9f0-eb28d275bae3",
   "metadata": {},
   "source": [
    "- add the following code to the objective function:\n",
    "```\n",
    "with mlflow.start_run():\n",
    "    mlflow.log_params(params)\n",
    "    # [...]\n",
    "    mlflow.log_metric(\"val_rmse\", rmse)\n",
    "```"
   ]
  },
  {
   "cell_type": "code",
   "execution_count": 9,
   "id": "7e8ac2b4-da1e-45e2-aa75-779709610508",
   "metadata": {
    "scrolled": true
   },
   "outputs": [
    {
     "name": "stdout",
     "output_type": "stream",
     "text": [
      "/home/codespace/venv/lib/python3.12/site-packages/hyperopt/atpe.py:19: UserWarning: pkg_resources is deprecated as an API. See https://setuptools.pypa.io/en/latest/pkg_resources.html. The pkg_resources package is slated for removal as early as 2025-11-30. Refrain from using this package or pin to Setuptools<81.\n",
      "  import pkg_resources\n",
      "2025/07/02 11:02:54 INFO mlflow.tracking.fluent: Experiment with name 'random-forest-hyperopt' does not exist. Creating a new experiment.\n",
      "🏃 View run selective-bat-982 at: http://127.0.0.1:5000/#/experiments/1/runs/9a2b011a012640b89063d6cbe2501326\n",
      "\n",
      "🧪 View experiment at: http://127.0.0.1:5000/#/experiments/1                    \n",
      "\n",
      "🏃 View run brawny-snail-976 at: http://127.0.0.1:5000/#/experiments/1/runs/336b514043f847a78982e91ca81e952d\n",
      "\n",
      "🧪 View experiment at: http://127.0.0.1:5000/#/experiments/1                    \n",
      "\n",
      "🏃 View run redolent-newt-167 at: http://127.0.0.1:5000/#/experiments/1/runs/fe613dd8e26446b5a7827b920708a0d8\n",
      "\n",
      "🧪 View experiment at: http://127.0.0.1:5000/#/experiments/1                    \n",
      "\n",
      "🏃 View run shivering-carp-128 at: http://127.0.0.1:5000/#/experiments/1/runs/4c89d125ccaf49849dd65fe67114f451\n",
      "\n",
      "🧪 View experiment at: http://127.0.0.1:5000/#/experiments/1                    \n",
      "\n",
      "🏃 View run likeable-moth-260 at: http://127.0.0.1:5000/#/experiments/1/runs/4b31c6dd322741d6ae8c58853e5de588\n",
      "\n",
      "🧪 View experiment at: http://127.0.0.1:5000/#/experiments/1                    \n",
      "\n",
      "🏃 View run handsome-moth-555 at: http://127.0.0.1:5000/#/experiments/1/runs/f8556653487b435ca0a097c5a0c14d13\n",
      "\n",
      "🧪 View experiment at: http://127.0.0.1:5000/#/experiments/1                    \n",
      "\n",
      "🏃 View run respected-skink-748 at: http://127.0.0.1:5000/#/experiments/1/runs/9ba44a29306c4e748825ad4c50300d28\n",
      "\n",
      "🧪 View experiment at: http://127.0.0.1:5000/#/experiments/1                    \n",
      "\n",
      "🏃 View run angry-hen-595 at: http://127.0.0.1:5000/#/experiments/1/runs/a7587b903fbd4d4c85d7fc5930de92d5\n",
      "\n",
      "🧪 View experiment at: http://127.0.0.1:5000/#/experiments/1                    \n",
      "\n",
      "🏃 View run incongruous-bass-828 at: http://127.0.0.1:5000/#/experiments/1/runs/7c37d0a14ce441c2bfc47736869b573b\n",
      "\n",
      "🧪 View experiment at: http://127.0.0.1:5000/#/experiments/1                    \n",
      "\n",
      "🏃 View run abrasive-donkey-558 at: http://127.0.0.1:5000/#/experiments/1/runs/44f15b0022d3465a8adfa1c755467dee\n",
      "\n",
      "🧪 View experiment at: http://127.0.0.1:5000/#/experiments/1                    \n",
      "\n",
      "🏃 View run fearless-chimp-488 at: http://127.0.0.1:5000/#/experiments/1/runs/9f73550589284b1bacba5e0a66e43321\n",
      "\n",
      "🧪 View experiment at: http://127.0.0.1:5000/#/experiments/1                    \n",
      "\n",
      "🏃 View run polite-stork-133 at: http://127.0.0.1:5000/#/experiments/1/runs/ef365b7320f848f0a3b925510e37cd17\n",
      "\n",
      "🧪 View experiment at: http://127.0.0.1:5000/#/experiments/1                    \n",
      "\n",
      "🏃 View run popular-lark-553 at: http://127.0.0.1:5000/#/experiments/1/runs/e710ca2732734967a869fc761ac599ec\n",
      "\n",
      "🧪 View experiment at: http://127.0.0.1:5000/#/experiments/1                    \n",
      "\n",
      "🏃 View run carefree-eel-527 at: http://127.0.0.1:5000/#/experiments/1/runs/9fe8f2e8632049f5a21ba90114ba6970\n",
      "\n",
      "🧪 View experiment at: http://127.0.0.1:5000/#/experiments/1                    \n",
      "\n",
      "🏃 View run sassy-squirrel-828 at: http://127.0.0.1:5000/#/experiments/1/runs/bfdacacf59bd4003a0ddf8c55c19683f\n",
      "\n",
      "🧪 View experiment at: http://127.0.0.1:5000/#/experiments/1                    \n",
      "\n",
      "100%|██████████| 15/15 [01:07<00:00,  4.52s/trial, best loss: 5.335419588556921]\n"
     ]
    }
   ],
   "source": [
    "!python hpo.py"
   ]
  },
  {
   "cell_type": "markdown",
   "id": "cb57fb10-55ee-44d8-913f-997a2c321826",
   "metadata": {},
   "source": [
    "- best validation RMSE: 5.335419588556921"
   ]
  },
  {
   "cell_type": "markdown",
   "id": "5239e418-7ffb-4315-97ef-8cbe5a91abda",
   "metadata": {},
   "source": [
    "# Q6. Promote the best model to the model registry"
   ]
  },
  {
   "cell_type": "markdown",
   "id": "6fe8e191-98a5-4812-af15-2e72f8cbc57c",
   "metadata": {},
   "source": [
    "- modify the following code:\n",
    "```\n",
    "# Select the model with the lowest test RMSE\n",
    "experiment = client.get_experiment_by_name(EXPERIMENT_NAME)\n",
    "best_run = client.search_runs(\n",
    "    experiment_ids=experiment._experiment_id,\n",
    "    run_view_type=ViewType.ACTIVE_ONLY,\n",
    "    max_results=1,\n",
    "    order_by=[\"metrics.rmse ASC\"]\n",
    ")[0]\n",
    "\n",
    "# Register the best model\n",
    "mlflow.register_model(\n",
    "    model_uri = f\"runs:/{best_run.info.run_id}/model\",\n",
    "    name = \"duration_estimator\"\n",
    ")\n",
    "```\n",
    "- please note that when executing this in a github codespace, the frist trial works and in the following trials in the fit() method, the script is \"Terminated\": This is likely due to insufficient memory"
   ]
  },
  {
   "cell_type": "code",
   "execution_count": 1,
   "id": "c07161cf-3bf6-4b8d-9491-bcf6b57afdd0",
   "metadata": {},
   "outputs": [
    {
     "name": "stdout",
     "output_type": "stream",
     "text": [
      "{'max_depth': '20', 'min_samples_leaf': '1', 'min_samples_split': '9', 'n_estimators': '19', 'random_state': '42'}\n",
      "{'max_depth': 20, 'n_estimators': 19, 'min_samples_split': 9, 'min_samples_leaf': 1, 'random_state': 42}\n",
      "🏃 View run silent-conch-870 at: http://127.0.0.1:5000/#/experiments/2/runs/dfbb7175407c4895acd8a95067b1d3f5\n",
      "🧪 View experiment at: http://127.0.0.1:5000/#/experiments/2\n",
      "{'max_depth': '18', 'min_samples_leaf': '1', 'min_samples_split': '6', 'n_estimators': '13', 'random_state': '42'}\n",
      "{'max_depth': 18, 'n_estimators': 13, 'min_samples_split': 6, 'min_samples_leaf': 1, 'random_state': 42}\n",
      "🏃 View run peaceful-duck-3 at: http://127.0.0.1:5000/#/experiments/2/runs/ed12accd623443e0bb70a80aa9665836\n",
      "🧪 View experiment at: http://127.0.0.1:5000/#/experiments/2\n",
      "{'max_depth': '5', 'min_samples_leaf': '3', 'min_samples_split': '8', 'n_estimators': '21', 'random_state': '42'}\n",
      "{'max_depth': 5, 'n_estimators': 21, 'min_samples_split': 8, 'min_samples_leaf': 3, 'random_state': 42}\n",
      "🏃 View run bald-owl-435 at: http://127.0.0.1:5000/#/experiments/2/runs/10e018f34f76438d96b89918c0c96792\n",
      "🧪 View experiment at: http://127.0.0.1:5000/#/experiments/2\n",
      "{'max_depth': '7', 'min_samples_leaf': '1', 'min_samples_split': '7', 'n_estimators': '41', 'random_state': '42'}\n",
      "{'max_depth': 7, 'n_estimators': 41, 'min_samples_split': 7, 'min_samples_leaf': 1, 'random_state': 42}\n",
      "🏃 View run powerful-rat-616 at: http://127.0.0.1:5000/#/experiments/2/runs/1288374920a842b99a92800f85d52e60\n",
      "🧪 View experiment at: http://127.0.0.1:5000/#/experiments/2\n",
      "{'max_depth': '19', 'min_samples_leaf': '2', 'min_samples_split': '2', 'n_estimators': '11', 'random_state': '42'}\n",
      "{'max_depth': 19, 'n_estimators': 11, 'min_samples_split': 2, 'min_samples_leaf': 2, 'random_state': 42}\n",
      "🏃 View run brawny-ray-333 at: http://127.0.0.1:5000/#/experiments/2/runs/cfcffaa029e64fd4898c48542198473d\n",
      "🧪 View experiment at: http://127.0.0.1:5000/#/experiments/2\n",
      "Successfully registered model 'duration_estimator'.\n",
      "2025/07/02 11:38:08 WARNING mlflow.tracking._model_registry.fluent: Run with id cfcffaa029e64fd4898c48542198473d has no artifacts at artifact path 'model', registering model based on models:/m-485fbcfaccbf48b69ae04b392503b4a0 instead\n",
      "2025/07/02 11:38:09 INFO mlflow.store.model_registry.abstract_store: Waiting up to 300 seconds for model version to finish creation. Model name: duration_estimator, version 1\n",
      "Created version '1' of model 'duration_estimator'.\n"
     ]
    }
   ],
   "source": [
    "!python3 register_model.py"
   ]
  },
  {
   "cell_type": "code",
   "execution_count": 2,
   "id": "65274ca9-a9ce-4070-9bdc-f5ccc71d2e87",
   "metadata": {},
   "outputs": [
    {
     "name": "stdout",
     "output_type": "stream",
     "text": [
      "{'max_depth': '20', 'min_samples_leaf': '1', 'min_samples_split': '9', 'n_estimators': '19', 'random_state': '42'}\n",
      "{'max_depth': 20, 'n_estimators': 19, 'min_samples_split': 9, 'min_samples_leaf': 1, 'random_state': 42}\n",
      "🏃 View run resilient-sloth-802 at: http://127.0.0.1:5000/#/experiments/2/runs/bfd3c49e4b834de390523ce7e285f487\n",
      "🧪 View experiment at: http://127.0.0.1:5000/#/experiments/2\n",
      "{'max_depth': '18', 'min_samples_leaf': '1', 'min_samples_split': '6', 'n_estimators': '13', 'random_state': '42'}\n",
      "{'max_depth': 18, 'n_estimators': 13, 'min_samples_split': 6, 'min_samples_leaf': 1, 'random_state': 42}\n",
      "🏃 View run selective-fowl-900 at: http://127.0.0.1:5000/#/experiments/2/runs/1e8a5af9c41a4f88b6b39fddd827c82c\n",
      "🧪 View experiment at: http://127.0.0.1:5000/#/experiments/2\n",
      "{'max_depth': '5', 'min_samples_leaf': '3', 'min_samples_split': '8', 'n_estimators': '21', 'random_state': '42'}\n",
      "{'max_depth': 5, 'n_estimators': 21, 'min_samples_split': 8, 'min_samples_leaf': 3, 'random_state': 42}\n",
      "🏃 View run bouncy-cub-752 at: http://127.0.0.1:5000/#/experiments/2/runs/2a43738f38af454498aed39de2bb5376\n",
      "🧪 View experiment at: http://127.0.0.1:5000/#/experiments/2\n",
      "{'max_depth': '7', 'min_samples_leaf': '1', 'min_samples_split': '7', 'n_estimators': '41', 'random_state': '42'}\n",
      "{'max_depth': 7, 'n_estimators': 41, 'min_samples_split': 7, 'min_samples_leaf': 1, 'random_state': 42}\n",
      "🏃 View run dashing-kit-655 at: http://127.0.0.1:5000/#/experiments/2/runs/1ca7e81b3e414fdbadc846b25cbd98b0\n",
      "🧪 View experiment at: http://127.0.0.1:5000/#/experiments/2\n",
      "{'max_depth': '19', 'min_samples_leaf': '2', 'min_samples_split': '2', 'n_estimators': '11', 'random_state': '42'}\n",
      "{'max_depth': 19, 'n_estimators': 11, 'min_samples_split': 2, 'min_samples_leaf': 2, 'random_state': 42}\n",
      "🏃 View run beautiful-stork-700 at: http://127.0.0.1:5000/#/experiments/2/runs/6eb67a5a17f944e996e7577a6fcbbfa5\n",
      "🧪 View experiment at: http://127.0.0.1:5000/#/experiments/2\n",
      "Registered model 'duration_estimator' already exists. Creating a new version of this model...\n",
      "2025/07/02 11:40:20 WARNING mlflow.tracking._model_registry.fluent: Run with id 6eb67a5a17f944e996e7577a6fcbbfa5 has no artifacts at artifact path 'model', registering model based on models:/m-4723199be7e842a68c4a9af9dfac844c instead\n",
      "2025/07/02 11:40:20 INFO mlflow.store.model_registry.abstract_store: Waiting up to 300 seconds for model version to finish creation. Model name: duration_estimator, version 2\n",
      "Created version '2' of model 'duration_estimator'.\n"
     ]
    }
   ],
   "source": [
    "!python3 register_model.py"
   ]
  },
  {
   "cell_type": "markdown",
   "id": "f74ca5df-3512-41b3-bf80-df6563f39772",
   "metadata": {},
   "source": [
    "- best test RMSE: 5.567408012462019"
   ]
  },
  {
   "cell_type": "markdown",
   "id": "f52d3831-bc90-48ab-ad4f-0ac694fdb6e9",
   "metadata": {
    "jp-MarkdownHeadingCollapsed": true
   },
   "source": [
    "# Deleting experiments\n",
    "- when deleting an experiment it is impossible to create an experiment with the same name until it is removed from the \"trash\"\n",
    "- when there are difficulties use this sqlite3 code - line by line:\n",
    "``` \n",
    "sqlite3 mlflow.db #start sqlite3\n",
    "SELECT experiment_id, name, lifecycle_stage FROM experiments WHERE name = 'random-forest-best-models';\n",
    "DELETE FROM experiments WHERE name = 'random-forest-best-models';\n",
    ".quit\n",
    "```"
   ]
  },
  {
   "cell_type": "code",
   "execution_count": 3,
   "id": "fcb4ff80-b660-4cb6-920e-ca28287f210c",
   "metadata": {},
   "outputs": [],
   "source": [
    "#import mlflow\n",
    "#from mlflow.entities import ViewType\n",
    "#from mlflow.tracking import MlflowClient\n",
    "\n",
    "#mlflow.set_tracking_uri(\"http://127.0.0.1:5000\")\n",
    "\n",
    "#experiments = mlflow.search_experiments(view_type=ViewType.ALL)\n",
    "#print([e.name for e in experiments])\n",
    "#client = MlflowClient()\n",
    "#experiment = client.get_experiment_by_name(\"random-forest-best-models\")\n",
    "#print(experiment)\n",
    "\n",
    "#if experiment.lifecycle_stage == \"deleted\":\n",
    "#    client.delete_experiment(experiment.experiment_id)"
   ]
  },
  {
   "cell_type": "code",
   "execution_count": 16,
   "id": "ffa38d29-ce11-417c-8075-89474eeba1a2",
   "metadata": {},
   "outputs": [
    {
     "name": "stdout",
     "output_type": "stream",
     "text": [
      "/workspaces/mlops-zoomcamp/02-experiment-tracking/homework\n"
     ]
    }
   ],
   "source": [
    "!pwd"
   ]
  }
 ],
 "metadata": {
  "kernelspec": {
   "display_name": "Python 3 (ipykernel)",
   "language": "python",
   "name": "python3"
  },
  "language_info": {
   "codemirror_mode": {
    "name": "ipython",
    "version": 3
   },
   "file_extension": ".py",
   "mimetype": "text/x-python",
   "name": "python",
   "nbconvert_exporter": "python",
   "pygments_lexer": "ipython3",
   "version": "3.12.1"
  }
 },
 "nbformat": 4,
 "nbformat_minor": 5
}
